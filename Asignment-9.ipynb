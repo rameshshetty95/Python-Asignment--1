{
 "cells": [
  {
   "cell_type": "markdown",
   "id": "5ccebd6c-4194-41f8-aab0-49c1d4708f6e",
   "metadata": {},
   "source": [
    "### Q1: What is exception handling in Python?\n",
    "\n",
    "- **Exception handling is a mechanism that allows a program to deal with errors gracefully without crashing. In Python, this is accomplished using try, except, else, and finally blocks.**"
   ]
  },
  {
   "cell_type": "markdown",
   "id": "5fb38ee5-12d1-4229-b8d1-f307847cab7e",
   "metadata": {},
   "source": [
    "### Q2: How do you catch an exception in Python?\n",
    "\n",
    "- **In Python, you catch exceptions using the try-except block.**\n",
    "- **An exception is an error that occurs during the execution of a program.**\r",
    "- **Common built-in exceptions include ValueError, TypeError, FileNotFoundError, etc**."
   ]
  },
  {
   "cell_type": "markdown",
   "id": "28f13dfe-019e-4d8a-9362-0607c494858b",
   "metadata": {},
   "source": [
    "### Q3: What will the following code output?"
   ]
  },
  {
   "cell_type": "code",
   "execution_count": 2,
   "id": "b3f81106-7b49-4cbd-b051-a9b3b0e0d5bf",
   "metadata": {},
   "outputs": [
    {
     "name": "stdin",
     "output_type": "stream",
     "text": [
      "Enter a numerator:  45\n",
      "Enter a denominator:  8\n"
     ]
    },
    {
     "name": "stdout",
     "output_type": "stream",
     "text": [
      "The result is: 5.625\n",
      "Execution complete.\n"
     ]
    }
   ],
   "source": [
    "try:\n",
    "    # Code that may raise an exception\n",
    "    numerator = int(input(\"Enter a numerator: \"))\n",
    "    denominator = int(input(\"Enter a denominator: \"))\n",
    "    result = numerator / denominator\n",
    "except ValueError:\n",
    "    print(\"Please enter valid integers.\")\n",
    "except ZeroDivisionError:\n",
    "    print(\"Denominator cannot be zero.\")\n",
    "else:\n",
    "    print(f\"The result is: {result}\")\n",
    "finally:\n",
    "    print(\"Execution complete.\")"
   ]
  },
  {
   "cell_type": "markdown",
   "id": "65c97fb7-28f6-461b-a81b-120b70bf0763",
   "metadata": {},
   "source": [
    "### Q4: What is the purpose of the `finally` block?\n",
    "\n",
    "- **An optional block that runs regardless of whether an exception occurred or not. It's often used for cleanup actions.**"
   ]
  },
  {
   "cell_type": "markdown",
   "id": "b6c56a72-ff9d-4bb1-9e1c-912b778a8201",
   "metadata": {},
   "source": [
    "### Q5: Can you have multiple `except` blocks for a single `try` statement?\n",
    "\n",
    "- **Yes, you can have multiple `except` blocks for a single `try` statement in Python. This allows you to handle different types of exceptions separately.**"
   ]
  },
  {
   "cell_type": "markdown",
   "id": "3d26a9ca-7db4-4063-b311-2332786e249d",
   "metadata": {},
   "source": [
    "### Q6: How do you catch multiple exceptions in a single `except` block?\n",
    "\n",
    "- **You can catch multiple exceptions in a single `except` block by specifying a tuple of exception types. This allows you to handle different types of exceptions with the same code block.**"
   ]
  },
  {
   "cell_type": "markdown",
   "id": "62a86d90-69b1-4356-a332-df77b665a6d8",
   "metadata": {},
   "source": [
    "### Q7: What does the `raise` statement do?\n",
    "\n",
    "\n",
    "- **The `raise` statement in Python is used to explicitly raise an exception. This allows you to trigger an error manually, either to indicate that something went wrong or to re-raise an exception that you caught in an except block.**"
   ]
  },
  {
   "cell_type": "markdown",
   "id": "c6d60ee0-c29a-46d5-aacd-ee5f7be1cda6",
   "metadata": {},
   "source": [
    "### Q8: What will the following code output?"
   ]
  },
  {
   "cell_type": "code",
   "execution_count": 3,
   "id": "024be39c-a5d0-4a28-b704-fe1ce301766b",
   "metadata": {},
   "outputs": [
    {
     "name": "stdout",
     "output_type": "stream",
     "text": [
      "Error: Cannot divide by zero.\n"
     ]
    }
   ],
   "source": [
    "def divide(a, b):\n",
    "    if b == 0:\n",
    "        raise ValueError(\"Cannot divide by zero.\")\n",
    "    return a / b\n",
    "\n",
    "try:\n",
    "    result = divide(10, 0)\n",
    "except ValueError as e:\n",
    "    print(f\"Error: {e}\")"
   ]
  },
  {
   "cell_type": "markdown",
   "id": "02d6b906-7910-4151-bcc9-a5306db1795f",
   "metadata": {
    "jp-MarkdownHeadingCollapsed": true
   },
   "source": [
    "### Q9: What is a custom exception in Python?\n",
    "\n",
    "- **A custom exception in Python is a user-defined exception that you can create by subclassing the built-in `Exception` class (or another more specific exception class). This allows you to define error conditions that are specific to your application and handle them in a more meaningful way.**"
   ]
  },
  {
   "cell_type": "markdown",
   "id": "4ad4abb5-c7df-4058-9f68-503fbf35e2fc",
   "metadata": {},
   "source": [
    "### Q10: How do you define a custom exception?\n",
    "\n",
    "\n",
    "- **You define a custom exception in Python by creating a new class that inherits from the built-in `Exception` class (or any other exception class). This allows you to add custom behavior or attributes to the exception, making it more relevant to the specific error conditions in your application.**"
   ]
  },
  {
   "cell_type": "markdown",
   "id": "e1a8d0ce-29fa-4b8e-948f-154bd30e1c08",
   "metadata": {},
   "source": [
    "### Q11: How can you use `else` with `try` and `except`?\n",
    "\n",
    "- **In Python, you can use an `else` clause with a `try` and `except` block. The `else` block is executed only if no exceptions were raised in the `try` block. It's a good way to handle code that should run only if the `try` block is successful.**"
   ]
  },
  {
   "cell_type": "markdown",
   "id": "7e32807f-405b-4078-abc0-f15dfe110955",
   "metadata": {},
   "source": [
    "### Q12: What is the difference between `except Exception` and a specific exception like `exceptValueError`?\n",
    "\n",
    "- **The difference between `except Exception` and a specific exception like `exceptValueError` in Python lies primarily in the scope of what they catch and how they handle errors.**\n",
    "\n",
    "- **`except Exception`**\n",
    "\n",
    "**This clause catches all exceptions that are subclasses of Exception. This includes standard `exceptions` (like `ValueError`, `TypeError`, `KeyError`, etc.) as well as user-defined exceptions that derive from `Exception`**\n",
    "\n",
    "- **`except ValueError`**\n",
    "- **Specific Catch: This clause only catches `ValueError` exceptions. If a different type of exception is raised, it will not be caught by this block.**"
   ]
  },
  {
   "cell_type": "code",
   "execution_count": null,
   "id": "174994b1-73ba-4ef3-afb2-1e753d24cfa5",
   "metadata": {},
   "outputs": [],
   "source": []
  }
 ],
 "metadata": {
  "kernelspec": {
   "display_name": "Python 3 (ipykernel)",
   "language": "python",
   "name": "python3"
  },
  "language_info": {
   "codemirror_mode": {
    "name": "ipython",
    "version": 3
   },
   "file_extension": ".py",
   "mimetype": "text/x-python",
   "name": "python",
   "nbconvert_exporter": "python",
   "pygments_lexer": "ipython3",
   "version": "3.12.4"
  }
 },
 "nbformat": 4,
 "nbformat_minor": 5
}
