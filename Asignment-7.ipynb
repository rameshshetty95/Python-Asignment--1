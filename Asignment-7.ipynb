{
 "cells": [
  {
   "cell_type": "markdown",
   "id": "b406edea-9205-42cb-b8fd-51cdf311adff",
   "metadata": {},
   "source": [
    "### Q1: What is a class in Python? Provide a simple example.\n",
    "\n",
    "- **In Python, use the class keyword followed by the class name and a colon. The convention is to use CamelCase for class names.**"
   ]
  },
  {
   "cell_type": "code",
   "execution_count": 3,
   "id": "704169ec-bbc3-4140-91d6-d20b756cd787",
   "metadata": {},
   "outputs": [
    {
     "name": "stdout",
     "output_type": "stream",
     "text": [
      "2020 Toyota Corolla\n"
     ]
    }
   ],
   "source": [
    "class Car:\n",
    "    def __init__(self, make, model, year):\n",
    "        self.make = make  # Attribute for car's make\n",
    "        self.model = model  # Attribute for car's model\n",
    "        self.year = year  # Attribute for car's year\n",
    "\n",
    "    def display_info(self):\n",
    "        return f\"{self.year} {self.make} {self.model}\""
   ]
  },
  {
   "cell_type": "markdown",
   "id": "fb38acb3-b27f-46f6-a77e-deb04f7b5e52",
   "metadata": {},
   "source": [
    "### Q2: How do you create an object of a class in Python? Illustrate with an example.\n",
    "\n",
    "- **Once a class is defined, you can create objects (instances) of that class.**"
   ]
  },
  {
   "cell_type": "code",
   "execution_count": 4,
   "id": "693bd342-fcf9-4f36-8234-cfbb6f75a26c",
   "metadata": {},
   "outputs": [
    {
     "name": "stdout",
     "output_type": "stream",
     "text": [
      "2020 Toyota Corolla\n"
     ]
    }
   ],
   "source": [
    "my_car = Car(\"Toyota\", \"Corolla\", 2020)\n",
    "print(my_car.display_info())  "
   ]
  },
  {
   "cell_type": "markdown",
   "id": "df7d9849-e370-4338-b273-f122626ca37a",
   "metadata": {},
   "source": [
    "### Q3: What is the `__init__` method in a class? Explain with an example.\n",
    "\n",
    "- **Attributes are defined in the \"____init____\" method, which is the constructor method in Python. You can access attributes using the dot notation.**"
   ]
  },
  {
   "cell_type": "code",
   "execution_count": 5,
   "id": "98ebd571-27f8-4e5a-9dfa-87ae1b0cee7e",
   "metadata": {},
   "outputs": [
    {
     "name": "stdout",
     "output_type": "stream",
     "text": [
      "Toyota\n"
     ]
    }
   ],
   "source": [
    "print(my_car.make)"
   ]
  },
  {
   "cell_type": "markdown",
   "id": "7d21f707-961d-4ab1-b727-fcde78db9bf8",
   "metadata": {},
   "source": [
    "### Q4: How can you create a class variable in Python? Provide an example.\n",
    "\n",
    "- **In Python is a variable that is shared by all instances of a class. It is defined inside the class but outside any methods. This means that any changes to the class variable will affect all instances of that class.**"
   ]
  },
  {
   "cell_type": "code",
   "execution_count": 6,
   "id": "518fcb71-d49f-400e-bb5a-05afa83a6587",
   "metadata": {},
   "outputs": [
    {
     "name": "stdout",
     "output_type": "stream",
     "text": [
      "Canine\n",
      "Canine\n"
     ]
    }
   ],
   "source": [
    "class Dog:\n",
    "    species = \"Canine\"  # Class variable\n",
    "\n",
    "    def __init__(self, name):\n",
    "        self.name = name  # Instance variable\n",
    "\n",
    "# Create instances\n",
    "dog1 = Dog(\"Buddy\")\n",
    "dog2 = Dog(\"Max\")\n",
    "\n",
    "# Access class variable\n",
    "print(dog1.species)\n",
    "print(dog2.species) \n"
   ]
  },
  {
   "cell_type": "markdown",
   "id": "67df3419-76e8-4c11-919d-5b5c662c88b3",
   "metadata": {},
   "source": [
    "### Q5: What is the purpose of the `self` parameter in class methods?\n",
    "\n",
    "- **The self parameter in Python class methods is a reference to the current instance of the class. It allows access to the instance variables and methods. By using self, you can modify or access attributes that belong to the instance on which the method is called.**"
   ]
  },
  {
   "cell_type": "markdown",
   "id": "12941e0d-2e95-44d6-8113-03a196ef3e79",
   "metadata": {},
   "source": [
    "### Q6: How do you create a class method in Python? Provide an example.\n",
    "\n",
    "- **Methods are functions defined within a class. They can take parameters and can operate on the object's attributes.**"
   ]
  },
  {
   "cell_type": "code",
   "execution_count": 8,
   "id": "31dfdc59-e729-4de9-a34d-2eeaec3cb1ad",
   "metadata": {},
   "outputs": [
    {
     "name": "stdout",
     "output_type": "stream",
     "text": [
      "2021 Toyota Corolla\n"
     ]
    }
   ],
   "source": [
    "class Car:\n",
    "    def __init__(self, make, model, year):\n",
    "        self.make = make\n",
    "        self.model = model\n",
    "        self.year = year\n",
    "        \n",
    "  #create an method  \n",
    "    def update_year(self, new_year):\n",
    "        self.year = new_year\n",
    "\n",
    "    def display_info(self):\n",
    "        return f\"{self.year} {self.make} {self.model}\"\n",
    "\n",
    "# Create an object of Car\n",
    "my_car = Car(\"Toyota\", \"Corolla\", 2020)\n",
    "\n",
    "# Update the year of the car\n",
    "my_car.update_year(2021)\n",
    "\n",
    "# Display updated info\n",
    "print(my_car.display_info())\n"
   ]
  },
  {
   "cell_type": "code",
   "execution_count": null,
   "id": "50f86060-45a4-4201-9525-38ccd814f3ba",
   "metadata": {},
   "outputs": [],
   "source": []
  }
 ],
 "metadata": {
  "kernelspec": {
   "display_name": "Python 3 (ipykernel)",
   "language": "python",
   "name": "python3"
  },
  "language_info": {
   "codemirror_mode": {
    "name": "ipython",
    "version": 3
   },
   "file_extension": ".py",
   "mimetype": "text/x-python",
   "name": "python",
   "nbconvert_exporter": "python",
   "pygments_lexer": "ipython3",
   "version": "3.12.4"
  }
 },
 "nbformat": 4,
 "nbformat_minor": 5
}
