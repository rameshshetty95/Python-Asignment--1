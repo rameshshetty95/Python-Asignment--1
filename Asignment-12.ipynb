{
 "cells": [
  {
   "cell_type": "markdown",
   "id": "07f0e770-9292-4d2c-b51a-de4d4d2e6047",
   "metadata": {},
   "source": [
    "### Q1: How do you open a file for reading in Python? Provide a code example.\n",
    "\n",
    "- **Ans: You can open a file for reading using the `open()` function with the mode `'r'`.**"
   ]
  },
  {
   "cell_type": "code",
   "execution_count": null,
   "id": "3f70330e-2c5d-4c0d-8a22-dda3d33cc5bc",
   "metadata": {},
   "outputs": [],
   "source": [
    "#Example: Open a file for reading\n",
    "with open`(example.'txt','r')` as file:\n",
    "content = file.read()\n",
    "print(content)"
   ]
  },
  {
   "cell_type": "markdown",
   "id": "174ee06e-7306-4eb0-86d6-34779ee80613",
   "metadata": {},
   "source": [
    "### Q2: What is the difference between `read()`, `readline()`, and `readlines()` methods?\n",
    "\n",
    "**Ans:**\n",
    "\n",
    "**- `read()`: Reads the entire file as a single string.**\n",
    "\n",
    "**- `readline()`: Reads the file line by line, returning the next line each time it’s called.**\n",
    "\n",
    "**- `readlines()`: Reads all lines into a list, where each line is an element of the list.**"
   ]
  },
  {
   "cell_type": "code",
   "execution_count": null,
   "id": "fa995f26-775a-4ee7-a9cb-bcadc8c795b2",
   "metadata": {},
   "outputs": [],
   "source": [
    "#Example:\n",
    "with open('example.txt','r') as file:\n",
    "print(file.read()) # Reads the entire file\n",
    "print(file.readline()) # Reads the first line\n",
    "print(file.readlines()) # Reads all lines into a list"
   ]
  },
  {
   "cell_type": "markdown",
   "id": "00e5102f-730c-475b-8782-5b45b3221021",
   "metadata": {},
   "source": [
    "### Q3: How do you write to a file in Python? Provide an example of writing multiple lines.\n",
    "\n",
    "- **Ans: You can write to a file using the `open()` function with the mode `'w'` or `'a'`.**"
   ]
  },
  {
   "cell_type": "code",
   "execution_count": null,
   "id": "82f67a56-3d96-4a61-b42e-ac9a13cf58a0",
   "metadata": {},
   "outputs": [],
   "source": [
    "#Example:\n",
    "\n",
    "with open('output.txt','w') as file:\n",
    "file.write('First line.\\n')\n",
    "file.write('Second line.\\n')\n",
    "file.write('Third line.\\n')"
   ]
  },
  {
   "cell_type": "markdown",
   "id": "a000aec9-e232-4a7f-a429-556c8a882928",
   "metadata": {},
   "source": [
    "### Q4: Explain how to append text to an existing file. Provide a code example.\n",
    "\n",
    "- **Ans: You can append text to a file using the mode `'a'`.**"
   ]
  },
  {
   "cell_type": "code",
   "execution_count": 15,
   "id": "cbeb12be-59ea-4ee8-a3c3-0ba91e7cae9e",
   "metadata": {},
   "outputs": [],
   "source": [
    "#Example:\n",
    "with open('output.txt', 'a') as file:\n",
    "    file.write('This is an appended line.\\n')"
   ]
  },
  {
   "cell_type": "markdown",
   "id": "99d15ce7-7925-498f-a561-2afc59f650d4",
   "metadata": {},
   "source": [
    "### Q5: How can you read a file and print each line with its line number?\n",
    "\n",
    "- **Ans: You can use a loop with `enumerate()` to read and print lines with their line numbers.**"
   ]
  },
  {
   "cell_type": "code",
   "execution_count": null,
   "id": "df64b24a-8bc7-412a-9350-d4da47da7777",
   "metadata": {},
   "outputs": [],
   "source": [
    "#Example:\n",
    "\n",
    "with open('example.txt', 'r') as file:\n",
    "    for line_number, line in enumerate(file, start=1):\n",
    "        print(\"{line_number}: {line.strip()}\")"
   ]
  },
  {
   "cell_type": "markdown",
   "id": "99317f57-a470-4ae8-acb9-3ea712e9da0e",
   "metadata": {},
   "source": [
    "### Q6: What is a context manager, and how is it used in file handling?\n",
    "\n",
    "- **Ans: A context manager is a way to allocate and release resources precisely using the `with`\n",
    "statement. It ensures that a file is properly closed after its suite finishes, even if an\n",
    "exception is raised.**\n"
   ]
  },
  {
   "cell_type": "code",
   "execution_count": null,
   "id": "a63e782d-e932-4f2a-aa47-9cf3868abde4",
   "metadata": {},
   "outputs": [],
   "source": [
    "#Example:\n",
    "\n",
    "with open('example.txt','r') as file:\n",
    "content = file.read()\n",
    "\n",
    "#File is automatically closed here."
   ]
  },
  {
   "cell_type": "markdown",
   "id": "cbff7a37-126f-44e3-886a-167859b5bcf7",
   "metadata": {},
   "source": [
    "### Q7: How do you check if a file exists before trying to read it?\n",
    "\n",
    "- **Ans: You can use the `os.path.exists()` function to check if a file exists.**\n"
   ]
  },
  {
   "cell_type": "code",
   "execution_count": 6,
   "id": "a6d5ceab-fb9a-42bc-ad32-bfcd913bf72d",
   "metadata": {},
   "outputs": [
    {
     "name": "stdout",
     "output_type": "stream",
     "text": [
      "File does not exist\n"
     ]
    }
   ],
   "source": [
    "import os\n",
    "file_path = 'example.txt'\n",
    "if os.path.exists(file_path):\n",
    "    with open(file_path,'example.txt') as file:\n",
    "        content = file.read()\n",
    "else:\n",
    "    print(\"File does not exist\")"
   ]
  },
  {
   "cell_type": "markdown",
   "id": "888e1ed0-0d2f-44bf-8a0a-520ecd8f8d02",
   "metadata": {},
   "source": [
    "### Q8: How can you read a file in binary mode?\n",
    "\n",
    "- **Ans: You can open a file in binary mode by using the mode `'rb'`.** "
   ]
  },
  {
   "cell_type": "code",
   "execution_count": null,
   "id": "4f8bb962-d29a-49f4-989d-9497eba4e92d",
   "metadata": {},
   "outputs": [],
   "source": [
    "with open('example.bin','rb') as file:\n",
    "    binary_content = file.read()\n",
    "print(binary_content)"
   ]
  },
  {
   "cell_type": "markdown",
   "id": "0105a0ac-e86a-4cfe-a0fb-017fd9507a66",
   "metadata": {},
   "source": [
    "### Q9: Write a code snippet to count the number of words in a file.\n",
    "\n",
    "- **Ans: You can read the file and split the content into words.**"
   ]
  },
  {
   "cell_type": "code",
   "execution_count": null,
   "id": "b0ef9b43-2c4e-4b49-a4b7-b2c9a1f5428e",
   "metadata": {},
   "outputs": [],
   "source": [
    "with open('example.txt','r') as file:\n",
    "    content = file.read()\n",
    "    words = content.split()\n",
    "    word_count = len(words)\n",
    "print(\"Number of words: {word_count}\")"
   ]
  },
  {
   "cell_type": "markdown",
   "id": "8a139229-c0c5-49c6-98c5-422639c921dc",
   "metadata": {},
   "source": [
    "### Q10: How do you create a new file and write a list of strings to it, one string per line?\n",
    "\n",
    "- **Ans: You can iterate over the list and write each string to the file.**"
   ]
  },
  {
   "cell_type": "code",
   "execution_count": 10,
   "id": "86b576bc-6f30-40a9-b05e-03d195484cfb",
   "metadata": {},
   "outputs": [],
   "source": [
    "lines = ['First line','Second line','Third line']\n",
    "\n",
    "with open('newfile.txt','w') as file:\n",
    "    for line in lines:\n",
    "        file.write(line + '\\n')"
   ]
  }
 ],
 "metadata": {
  "kernelspec": {
   "display_name": "Python 3 (ipykernel)",
   "language": "python",
   "name": "python3"
  },
  "language_info": {
   "codemirror_mode": {
    "name": "ipython",
    "version": 3
   },
   "file_extension": ".py",
   "mimetype": "text/x-python",
   "name": "python",
   "nbconvert_exporter": "python",
   "pygments_lexer": "ipython3",
   "version": "3.12.4"
  }
 },
 "nbformat": 4,
 "nbformat_minor": 5
}
