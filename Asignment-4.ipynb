{
 "cells": [
  {
   "cell_type": "markdown",
   "id": "362a3a48-c37b-4457-892f-9acf550cc739",
   "metadata": {},
   "source": [
    "### Q1. Write a Python code snippet that takes a score (0 to 100) and prints a letter grade based on the following scale:the exam.\")"
   ]
  },
  {
   "cell_type": "code",
   "execution_count": 1,
   "id": "c1824a7c-2922-4c59-aeb0-6c87138a6c94",
   "metadata": {},
   "outputs": [
    {
     "name": "stdout",
     "output_type": "stream",
     "text": [
      "You got a 'B' on the exam.\n"
     ]
    }
   ],
   "source": [
    "grade = 85\n",
    "\n",
    "if grade >= 90:\n",
    "    print(\"You got an 'A' on the exam.\")\n",
    "elif grade >= 80:\n",
    "    print(\"You got a 'B' on the exam.\")\n",
    "elif grade >= 70:\n",
    "    print(\"You got a 'C' on the exam.\")\n",
    "elif grade >= 60:\n",
    "    print(\"You got a 'D' on the exam.\")\n",
    "else:\n",
    "    print(\"You got an 'F' on the exam.\")"
   ]
  },
  {
   "cell_type": "markdown",
   "id": "d1aba402-3ccc-419a-80ea-c9ed0cc7c524",
   "metadata": {},
   "source": [
    "### Q2. Write a Python code snippet that reads an integer from the user and prints whether it is a prime number or not."
   ]
  },
  {
   "cell_type": "code",
   "execution_count": 4,
   "id": "68489762-16b1-4bd5-9721-458c8713508d",
   "metadata": {},
   "outputs": [
    {
     "name": "stdin",
     "output_type": "stream",
     "text": [
      "Enter the number:  9\n"
     ]
    },
    {
     "name": "stdout",
     "output_type": "stream",
     "text": [
      "9 is not a prime number.\n"
     ]
    }
   ],
   "source": [
    "number = int(input(\"Enter the number: \"))\n",
    "if number > 1:\n",
    "    for i in range(2, number):\n",
    "        if number % i == 0:\n",
    "            print(f\"{number} is not a prime number.\")\n",
    "            break\n",
    "    else:\n",
    "        print(f\"{number} is a prime number.\")\n",
    "else:\n",
    "    print(f\"{number} is not a prime number.\")"
   ]
  },
  {
   "cell_type": "markdown",
   "id": "74c3e1cb-1b55-4aaa-badb-6b8a6ee31713",
   "metadata": {},
   "source": [
    "### Q3. Write a Python code snippet that takes an integer (1-7) and prints the corresponding day of the week. For example, 1 should print &quot;Monday&quot;, 2 should print &quot;Tuesday&quot;, and soon."
   ]
  },
  {
   "cell_type": "code",
   "execution_count": 7,
   "id": "db69ed5a-4fb2-4613-b67d-ed505775e533",
   "metadata": {},
   "outputs": [
    {
     "name": "stdout",
     "output_type": "stream",
     "text": [
      "Wednesday\n",
      "Sunday\n"
     ]
    }
   ],
   "source": [
    "def print_day_of_week(day):\n",
    "    days = {\n",
    "        1: \"Monday\",\n",
    "        2: \"Tuesday\",\n",
    "        3: \"Wednesday\",\n",
    "        4: \"Thursday\",\n",
    "        5: \"Friday\",\n",
    "        6: \"Saturday\",\n",
    "        7: \"Sunday\"\n",
    "    }\n",
    "    \n",
    "    if day in days:\n",
    "        print(days[day])\n",
    "    else:\n",
    "        print(\"Invalid input! Please enter a number between 1 and 7.\")\n",
    "\n",
    "print_day_of_week(3) \n",
    "print_day_of_week(7)"
   ]
  },
  {
   "cell_type": "markdown",
   "id": "7be2b20b-9558-4a57-896d-12fe076e7e38",
   "metadata": {},
   "source": [
    "### Q4. Write a Python code snippet that compares two strings and prints which one is lexicographically greater. If they are equal, print &quot;Equal&quot;."
   ]
  },
  {
   "cell_type": "code",
   "execution_count": 10,
   "id": "832ed2e8-a5b6-4f62-9cc6-1edd8b74969f",
   "metadata": {},
   "outputs": [
    {
     "name": "stdout",
     "output_type": "stream",
     "text": [
      "\"pineapple\" is greater.\n"
     ]
    }
   ],
   "source": [
    "str1 = \"pineapple\"\n",
    "str2 = \"banana\"\n",
    "\n",
    "if str1 > str2:\n",
    "    print(f'\"{str1}\" is greater.')\n",
    "elif str1 < str2:\n",
    "    print(f'\"{str2}\" is greater.')\n",
    "else:\n",
    "    print(\"Equal\")"
   ]
  },
  {
   "cell_type": "markdown",
   "id": "36eb5d4c-1fee-4f0e-b95a-61b8d99c6afe",
   "metadata": {},
   "source": [
    "### Q5. Write a Python code snippet that calculates the discounted price of an item based on whether the customer is a member. Members get a 20% discount, while non-members get a 10% discount. Print the final price."
   ]
  },
  {
   "cell_type": "code",
   "execution_count": 12,
   "id": "8afb3c45-dcf3-4e2b-93cf-a1e6d786754c",
   "metadata": {},
   "outputs": [
    {
     "name": "stdin",
     "output_type": "stream",
     "text": [
      "Enter the original price of the item:  30000\n",
      "Are you a member? (yes/no):  yes\n"
     ]
    },
    {
     "name": "stdout",
     "output_type": "stream",
     "text": [
      "The final price after discount is: 24000.00\n"
     ]
    }
   ],
   "source": [
    "original_price = float(input(\"Enter the original price of the item: \"))\n",
    "is_member = input(\"Are you a member? (yes/no): \").strip().lower()\n",
    "\n",
    "discount = 0.20 if is_member == 'yes' else 0.10\n",
    "\n",
    "final_price = original_price * (1 - discount)\n",
    "\n",
    "print(f\"The final price after discount is: {final_price:.2f}\")"
   ]
  },
  {
   "cell_type": "markdown",
   "id": "4dde457f-1497-4896-b6b3-edd6d378b192",
   "metadata": {},
   "source": [
    "### Q6. Write a Python code snippet that prints numbers from 1 to `n`. For multiples of 3, print &quot;Fizz&quot;, for multiples of 5, print &quot;Buzz&quot;, and for multiples of both 3 and 5, print &quot;FizzBuzz&quot;."
   ]
  },
  {
   "cell_type": "code",
   "execution_count": 7,
   "id": "ef312387-ed71-4246-9192-2214b82bfb60",
   "metadata": {},
   "outputs": [
    {
     "name": "stdin",
     "output_type": "stream",
     "text": [
      "Enter the number:  6\n"
     ]
    },
    {
     "name": "stdout",
     "output_type": "stream",
     "text": [
      "1\n",
      "2\n",
      "Fizz\n",
      "4\n",
      "Buzz\n",
      "Fizz\n"
     ]
    }
   ],
   "source": [
    "n = int(input(\"Enter the number: \"))\n",
    "\n",
    "for i in range(1,n+1):\n",
    "    if i%3==0 and i%5==0:\n",
    "        print(\"FizzBuzz\")\n",
    "    elif i%3==0:\n",
    "        print(\"Fizz\")\n",
    "    elif i%5==0:\n",
    "        print(\"Buzz\")\n",
    "    else:\n",
    "        print(i)"
   ]
  },
  {
   "cell_type": "markdown",
   "id": "46c4c6dc-0a91-48ad-ab2d-4c1ea3a75952",
   "metadata": {},
   "source": [
    "### Q7. Write a Python code snippet that takes a temperature in Celsius and converts it to Fahrenheit. Print &quot;Hot&quot; if the temperature is above 100°F, &quot;Warm&quot; if it is between 32°F and 100°F, and &quot;Cold&quot; if it is below 32°F.\n"
   ]
  },
  {
   "cell_type": "code",
   "execution_count": 10,
   "id": "23c46b79-9a42-4bac-80c3-6920a42602be",
   "metadata": {},
   "outputs": [
    {
     "name": "stdin",
     "output_type": "stream",
     "text": [
      "Enter the temparature in celsius:  48\n"
     ]
    },
    {
     "name": "stdout",
     "output_type": "stream",
     "text": [
      "Hot\n"
     ]
    }
   ],
   "source": [
    "Celsius = float(input(\"Enter the temparature in celsius: \"))\n",
    "\n",
    "fahrenheit = (Celsius * 9/5)+32\n",
    "\n",
    "if fahrenheit > 100:\n",
    "    print(\"Hot\")\n",
    "\n",
    "elif fahrenheit >= 32:\n",
    "    print(\"Warm\")\n",
    "\n",
    "else:\n",
    "    print(\"Cold\")"
   ]
  },
  {
   "cell_type": "markdown",
   "id": "cf5d725a-2b50-406b-a6b4-e70e7acf1ad1",
   "metadata": {},
   "source": [
    "### Q8. Write a Python code snippet that determines the maximum of three numbers using nested conditional statements. Print the maximum value.\n",
    "\n"
   ]
  },
  {
   "cell_type": "code",
   "execution_count": 6,
   "id": "b09fbae2-aa15-4b8a-9e24-7703105defd4",
   "metadata": {},
   "outputs": [
    {
     "name": "stdin",
     "output_type": "stream",
     "text": [
      "Enter 1st number:  50\n",
      "Enter 2nd number:  25\n",
      "Enter 3rd number:  15\n"
     ]
    },
    {
     "name": "stdout",
     "output_type": "stream",
     "text": [
      "3rd number {num3} is max value.\n"
     ]
    }
   ],
   "source": [
    "num1 = int(input(\"Enter 1st number: \"))\n",
    "num2 = int(input(\"Enter 2nd number: \"))\n",
    "num3 = int(input(\"Enter 3rd number: \"))\n",
    "\n",
    "if num1 >= num2:\n",
    "    if num1 <= num3:\n",
    "        print(\"1st number {num1} is max value.\")\n",
    "    else:\n",
    "        print(\"3rd number {num3} is max value.\")\n",
    "if num2 >= num1:\n",
    "    if num2 <= num3:\n",
    "        print(\"2nd number {num2} is max value.\")\n",
    "    else:\n",
    "        print(\"3rd number {num3} is max value.\")\n",
    "    "
   ]
  },
  {
   "cell_type": "markdown",
   "id": "216de4b4-1e7a-4ed8-8a53-864b4258a1c3",
   "metadata": {},
   "source": [
    "### Q9. Write a Python code snippet that calculates the final price of an item after applyingdifferent discounts based on the quantity purchased. Apply a 5% discount for quantities between 1 and 10, a 10% discount for quantities between 11 and 50, and a 15% discount for quantities above 50. Print the final price."
   ]
  },
  {
   "cell_type": "code",
   "execution_count": 3,
   "id": "cd64a6d3-eb63-4cb0-aec4-9ad2cc01a61e",
   "metadata": {},
   "outputs": [
    {
     "name": "stdin",
     "output_type": "stream",
     "text": [
      "Enter the total_quantities:  75\n"
     ]
    },
    {
     "name": "stdout",
     "output_type": "stream",
     "text": [
      "You have won a 15% discount!\n"
     ]
    }
   ],
   "source": [
    "Total_quantities = int(input(\"Enter the total_quantities: \"))\n",
    "\n",
    "if Total_quantities >= 50:\n",
    "    print(\"You have won a 15% discount!\")\n",
    "\n",
    "elif Total_quantities <=50 or Total_quantities >=10:\n",
    "    print(\"You have won 10% discount! \")\n",
    "\n",
    "elif Total_quantitiestal <= 10:\n",
    "    print(\"You have won 5% discpount! \")\n",
    "else:\n",
    "    print(\"Your not in range of discount! \")"
   ]
  },
  {
   "cell_type": "code",
   "execution_count": null,
   "id": "3625b298-8b23-4728-a3d7-0cc0edea1026",
   "metadata": {},
   "outputs": [],
   "source": []
  }
 ],
 "metadata": {
  "kernelspec": {
   "display_name": "Python 3 (ipykernel)",
   "language": "python",
   "name": "python3"
  },
  "language_info": {
   "codemirror_mode": {
    "name": "ipython",
    "version": 3
   },
   "file_extension": ".py",
   "mimetype": "text/x-python",
   "name": "python",
   "nbconvert_exporter": "python",
   "pygments_lexer": "ipython3",
   "version": "3.12.4"
  }
 },
 "nbformat": 4,
 "nbformat_minor": 5
}
