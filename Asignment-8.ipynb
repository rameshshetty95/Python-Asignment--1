{
 "cells": [
  {
   "cell_type": "markdown",
   "id": "09091fd0-e1c4-412b-b800-6941f3d4ac90",
   "metadata": {},
   "source": [
    "# Encapsulation\n"
   ]
  },
  {
   "cell_type": "markdown",
   "id": "9be120f6-3df9-4d9f-ac34-2a1a0e67b24f",
   "metadata": {},
   "source": [
    "### Q1: What is encapsulation in Python?\n",
    "\n",
    "- **Encapsulation is the bundling of data (attributes) and methods that operate on that data within a single unit (class). It restricts direct access to some of the object's components, which can help prevent accidental modification.**"
   ]
  },
  {
   "cell_type": "markdown",
   "id": "b9ad5921-0b59-42f4-8a4a-bceddb4497f8",
   "metadata": {},
   "source": [
    "### Q2: How do you achieve encapsulation in Python?\n",
    "\n",
    "- **Encapsulation in Python is achieved by controlling the access to the variables and methods of a class to prevent direct modification. This is done using access modifiers, such as private, protected, and public. Python doesn't enforce strict access control like some other programming languages (e.g., Java), but it provides conventions for indicating the intended access level of class attributes and methods.**"
   ]
  },
  {
   "cell_type": "markdown",
   "id": "ea64de64-e079-4151-927d-a3b6dc0f60b8",
   "metadata": {},
   "source": [
    "### Q3: What is a private attribute in a class?\n",
    "\n",
    "- **In Python, private attributes are typically denoted by a double underscore (__) prefix before the variable name. This triggers name mangling, where the interpreter changes the attribute name to include the class name, making it more difficult (but not impossible) to access from outside the class.**"
   ]
  },
  {
   "cell_type": "markdown",
   "id": "0dffb218-eb29-4425-af12-a04b370f3f86",
   "metadata": {},
   "source": [
    "### Q4: Can private attributes be accessed outside the class?\n",
    "\n",
    "- **Yes, private attributes in Python can technically be accessed outside the class, but it requires bypassing the intended encapsulation mechanism through name mangling.**"
   ]
  },
  {
   "cell_type": "markdown",
   "id": "a4b254fa-e54c-4a73-92ab-d8bfb6b656a0",
   "metadata": {},
   "source": [
    "### Q5: What is a getter and setter?\n",
    "\n",
    "- **Getter: A method used to retrieve or \"get\" the value of a private attribute.**\n",
    "- **Setter: A method used to update or \"set\" the value of a private attribute.**"
   ]
  },
  {
   "cell_type": "markdown",
   "id": "4874a28c-60b1-42c0-9fde-f596a7dfd2fb",
   "metadata": {},
   "source": [
    "# Abstraction"
   ]
  },
  {
   "cell_type": "markdown",
   "id": "7c8650a1-c90d-4bdc-a400-7c1f0ebad373",
   "metadata": {},
   "source": [
    "### Q6: What is abstraction in Python?\n",
    "\n",
    "- **Abstraction is the concept of hiding the complex reality while exposing only the necessary parts. It allows focusing on what an object does instead of how it does it.**"
   ]
  },
  {
   "cell_type": "markdown",
   "id": "307a0e6d-e170-42ff-8d79-a944b95c482d",
   "metadata": {},
   "source": [
    "### Q7: How do you implement abstraction in Python?\n",
    "\n",
    "- **In Python, abstraction is implemented using abstract classes and interfaces, which help define a blueprint for classes without providing complete implementations. This ensures that subclasses provide specific implementations for the abstract methods. In Python, abstraction is typically achieved through the use of the abc (Abstract Base Classes) module.**"
   ]
  },
  {
   "cell_type": "code",
   "execution_count": 1,
   "id": "44bcae75-642a-429d-9c06-ac0a6d76cd4e",
   "metadata": {},
   "outputs": [
    {
     "name": "stdout",
     "output_type": "stream",
     "text": [
      "Meow!\n",
      "Woof!\n"
     ]
    }
   ],
   "source": [
    "from abc import ABC, abstractmethod\n",
    "\n",
    "class Animal(ABC):\n",
    "    @abstractmethod\n",
    "    def make_sound(self):\n",
    "        pass\n",
    "\n",
    "class Cat(Animal):\n",
    "    def make_sound(self):\n",
    "        return \"Meow!\"\n",
    "\n",
    "class Dog(Animal):\n",
    "    def make_sound(self):\n",
    "        return \"Woof!\"\n",
    "\n",
    "# Usage\n",
    "cat = Cat()\n",
    "dog = Dog()\n",
    "print(cat.make_sound())  # Output: Meow!\n",
    "print(dog.make_sound())  # Output: Woof!"
   ]
  },
  {
   "cell_type": "markdown",
   "id": "680bbcbb-8745-4ee2-90b1-8309f90bf213",
   "metadata": {},
   "source": [
    "### Q8: What is an abstract class?\n",
    "\n",
    "- **An abstract class is like a blueprint for other classes. You can't create an object from it directly, but it tells other classes what methods they need to have. Those other classes must fill in the details for those methods.**"
   ]
  },
  {
   "cell_type": "markdown",
   "id": "ccdc9d64-23be-41fb-a516-53dca88b65fe",
   "metadata": {},
   "source": [
    "### Q9: Can a class have both abstract and concrete methods?\n",
    "\n",
    "**Yes, a class can have both abstract and concrete methods.**\n",
    "\n",
    "- **Abstract methods are defined without an implementation and must be implemented by any subclass.**\n",
    "- **Concrete methods have a complete implementation that can be used by subclasses as is.**"
   ]
  },
  {
   "cell_type": "markdown",
   "id": "e5275b46-3972-4b7e-b53d-f3626a15251d",
   "metadata": {},
   "source": [
    "### Q10: What is an interface in Python?\n",
    "\n",
    "\n",
    "- **In Python, an interface is a way to define a contract that classes can implement. It specifies methods that must be created within any class that implements the interface, but it doesn’t provide any implementation details.**"
   ]
  },
  {
   "cell_type": "markdown",
   "id": "f3e17eb1-f130-4b0d-8b85-54c931582d84",
   "metadata": {},
   "source": [
    "# Polymorphism"
   ]
  },
  {
   "cell_type": "markdown",
   "id": "a308a261-9445-4f06-8505-3c5fb91a51a1",
   "metadata": {},
   "source": [
    "### Q11: What is polymorphism in Python?\n",
    "\n",
    "**Polymorphism allows different classes to be treated as instances of the same class through a common interface. It often involves method overriding & interfaces to achieve Polymorphism.**\r\n",
    "\n",
    "**In object-oriented programming (OOP) in Python, polymorphism is a concept that allows objects of different classes to be treated as objects of a common superclass. It enables the same operation to be performed on different types of objects, making the code more flexible and extensible.**   e."
   ]
  },
  {
   "cell_type": "markdown",
   "id": "5708fc44-0f22-4609-965e-105291a2754d",
   "metadata": {},
   "source": [
    "### Q12: How does method overriding demonstrate polymorphism?\n"
   ]
  },
  {
   "cell_type": "markdown",
   "id": "b82b4af1-2a1c-45b4-889f-c7255173299c",
   "metadata": {},
   "source": [
    "### Q13: Can you give an example of operator overloading?\n",
    "\n",
    " - Certainly! Operator overloading allows you to define custom behavior for operators (like +, -, *, etc.) in your own classes. This means you can specify how an operator should work with instances of a user-defined class."
   ]
  },
  {
   "cell_type": "code",
   "execution_count": 2,
   "id": "0ce462f0-63f2-429d-bb81-a4ced5017ba8",
   "metadata": {},
   "outputs": [
    {
     "name": "stdout",
     "output_type": "stream",
     "text": [
      "Vector(6, 8)\n"
     ]
    }
   ],
   "source": [
    "class Vector:\n",
    "    def __init__(self, x, y):\n",
    "        self.x = x\n",
    "        self.y = y\n",
    "    \n",
    "    def __add__(self, other):\n",
    "        if isinstance(other, Vector):\n",
    "            return Vector(self.x + other.x, self.y + other.y)\n",
    "        return NotImplemented\n",
    "    \n",
    "    def __repr__(self):\n",
    "        return f\"Vector({self.x}, {self.y})\"\n",
    "\n",
    "# Create two Vector instances\n",
    "v1 = Vector(2, 3)\n",
    "v2 = Vector(4, 5)\n",
    "\n",
    "# Use the overloaded + operator\n",
    "result = v1 + v2\n",
    "\n",
    "# Output the result\n",
    "print(result)  # Outputs: Vector(6, 8)\n"
   ]
  },
  {
   "cell_type": "markdown",
   "id": "ce799223-eac4-45b3-9c7f-831512444123",
   "metadata": {},
   "source": [
    "### Q14: What is duck typing in Python?\n",
    "\n",
    "\n",
    "- **Duck typing is a concept in Python (and other dynamically typed languages) where the type or class of an object is less important than the methods or properties that the object has. The name comes from the saying:**\n",
    "\n",
    "**\"If it looks like a duck, swims like a duck, and quacks like a duck, then it probably is a duck.\"**"
   ]
  },
  {
   "cell_type": "markdown",
   "id": "a1eec3f6-8084-48bf-b75f-de8030da46ac",
   "metadata": {},
   "source": [
    "### Q15: What is the difference between compile-time and runtime polymorphism?\n",
    "\n"
   ]
  },
  {
   "cell_type": "markdown",
   "id": "9dee063a-d957-444a-96c2-8a6964e2d75d",
   "metadata": {},
   "source": [
    "# Inheritance"
   ]
  },
  {
   "cell_type": "markdown",
   "id": "6c25e6e8-e608-4fdb-81a1-361acceb147e",
   "metadata": {},
   "source": [
    "### Q16: What is inheritance in Python?\n",
    "\n",
    "- **Inheritance is a mechanism that allows a new class (which is called a subclass or child class) to inherit attributes and methods from an existing class (called a superclass or parent class). This promotes code reusability and establishes a relationship between classes.**"
   ]
  },
  {
   "cell_type": "markdown",
   "id": "65185feb-9295-435c-be19-8c9371000788",
   "metadata": {},
   "source": [
    "### Q17: What is a base class?\n",
    "\n",
    "- **In Python, a base class (also called a superclass or parent class) is a class that is inherited by another class (known as a subclass or child class). The base class provides attributes and methods that the subclass can use, extend, or override.**"
   ]
  },
  {
   "cell_type": "markdown",
   "id": "5c2dac79-3287-4dd7-a547-a4e5b28a77da",
   "metadata": {},
   "source": [
    "### Q18: What is a derived class?\n",
    "\n",
    "- **A derived class (also called a subclass or child class) is a class in Python that inherits from another class, known as the base class or parent class. The derived class can access the methods and properties of the base class and can also introduce its own methods or override those of the base class.**"
   ]
  },
  {
   "cell_type": "markdown",
   "id": "a934af90-ede8-41e6-b481-249c7c804bff",
   "metadata": {},
   "source": [
    "### Q19: What is multiple inheritance?\n",
    "\n",
    "- **Multiple inheritance is a feature in object-oriented programming (OOP) that allows a class (the derived class) to inherit from more than one base class (also known as parent classes or superclasses). This means that a derived class can access and utilize the attributes and methods from multiple base classes.**"
   ]
  },
  {
   "cell_type": "markdown",
   "id": "c27180e1-caa4-4665-89a4-ed349125f97e",
   "metadata": {},
   "source": [
    "### Q20: What is the `super()` function used for?\n",
    "\n",
    "\n",
    "- **The super() function in Python is used to call methods from a parent (or base) class in the context of a derived (or child) class.**"
   ]
  },
  {
   "cell_type": "markdown",
   "id": "7048a34f-92e6-4433-a3fa-73de5215cc48",
   "metadata": {},
   "source": [
    "### Q21: What is the Dundur Method in Python OOP?\n",
    "\n",
    "- **The Dunder method, short for \"double underscore\" method, refers to special methods in Python that have double underscores at the beginning and end of their names (e.g., __init__, __str__, __len__). These methods are also commonly known as magic methods or special methods.**"
   ]
  },
  {
   "cell_type": "markdown",
   "id": "9d290561-9925-4487-9788-7e6f5fbc0fc5",
   "metadata": {},
   "source": [
    "# General OOP Questions"
   ]
  },
  {
   "cell_type": "markdown",
   "id": "e009e7f9-317d-474c-b809-dd28eeb70cef",
   "metadata": {},
   "source": [
    "### Q22: What are the four main principles of OOP?\n",
    "\n",
    "**The four main pillars of OOP are:**\r\n",
    "\r\n",
    "1. **Encapsulation**\r\n",
    "2. **Abstraction**\r\n",
    "3. **Inheritance**\r\n",
    "4. **Polymorphmor**phism"
   ]
  },
  {
   "cell_type": "markdown",
   "id": "85220bc3-e8df-427f-98e3-98bbb3030861",
   "metadata": {},
   "source": [
    "### Q23: What is the difference between a class and an object?\n",
    "\n",
    "- **Class : A class is a blueprint or template for creating objects. It defines the properties (attributes) and behaviors (methods) that the objects created from the class will have.**\n",
    "\n",
    "- **Object : An object is an instance of a class. When you create an object from a class, you are creating a concrete entity that has the properties and behaviors defined by that class.**"
   ]
  },
  {
   "cell_type": "markdown",
   "id": "60ebc70d-89cb-487c-8973-be1240ec3350",
   "metadata": {},
   "source": [
    "### Q24: What is a class constructor in Python?\n",
    "\n",
    "- **In Python, a class constructor is a special method that is automatically called when an instance (object) of a class is created. The purpose of the constructor is to initialize the object's attributes and set up any necessary state for the object.**"
   ]
  },
  {
   "cell_type": "markdown",
   "id": "c98732c6-68f0-4ab6-9075-43b842645f97",
   "metadata": {},
   "source": [
    "### Q25: Can you override the constructor in a derived class?\n",
    "\n",
    "- **Yes, you can override the constructor (__init__ method) in a derived class in Python. When you override the constructor in a derived class, you can either completely redefine it or extend the behavior of the base class's constructor by explicitly calling it using super().**"
   ]
  },
  {
   "cell_type": "markdown",
   "id": "b6de2c25-7982-4158-87a6-6a022e2e43a2",
   "metadata": {},
   "source": [
    "### Q26: What is the difference between instance variables and class variables?\n",
    "\n",
    "**Instance Variables:**\n",
    "\n",
    "- **Defined inside a method, typically __init__(), and prefixed with self (e.g., self.variable).**\n",
    "- **Unique to each instance of a class. Each object gets its own copy of the instance variable.**\n",
    "\n",
    "**Class Variables:**\n",
    "\n",
    "- **Defined directly in the class body, outside of any method.**\n",
    "- **Shared across all instances of the class. Modifying the class variable affects all instances, unless the variable is overridden at the instance level.**"
   ]
  },
  {
   "cell_type": "markdown",
   "id": "24ea3c3a-1383-4486-8716-60e5e76a51d9",
   "metadata": {},
   "source": [
    "### Q27: How do you define a class method in Python?\n",
    "\n",
    "\n",
    "- **In Python, a class method is a method that is bound to the class and not the instance of the class. It can modify class state that applies across all instances of the class. To define a class method, you use the @classmethod decorator, and the first parameter of the method must be cls (which refers to the class itself, not the instance).**"
   ]
  },
  {
   "cell_type": "markdown",
   "id": "102284cf-bd5e-47ac-acad-2fb1ed693b2c",
   "metadata": {},
   "source": [
    "### Q28: What is a static method?\n",
    "\n",
    "- **In Python, a static method is a method that belongs to a class but doesn't require access to the instance (self) or class (cls) objects. It behaves like a regular function that happens to reside in a class's namespace, and it can be called on both the class itself or an instance of the class.**"
   ]
  },
  {
   "cell_type": "markdown",
   "id": "41a2edff-0ada-4748-a261-64b9413f3225",
   "metadata": {},
   "source": [
    "### Q29: What is method overriding?\n",
    "\n",
    "- **Method overriding occurs in object-oriented programming when ab Class bcl(Child la)ass provides a specific implementation of a method that is already defined in its sr Classrcl(parentcla)ass. This allows the subclass to modify or extend the behavior of the inherited method.**"
   ]
  },
  {
   "cell_type": "markdown",
   "id": "80a5b27d-a97c-4c6c-a932-2501807a0307",
   "metadata": {},
   "source": [
    "### Q30: Can you have an abstract method without an abstract class?\n",
    "\n",
    "\n",
    "- **No, in Python, you cannot have an abstract method without it being inside an abstract class. Abstract methods are meant to be defined in abstract classes, which serve as a blueprint for other classes to follow. Abstract methods are intended to be overridden by concrete subclasses.**"
   ]
  },
  {
   "cell_type": "markdown",
   "id": "c893aefc-b94d-4260-814b-3c817a72ef3a",
   "metadata": {},
   "source": [
    "### Q31: How do you implement a private method in a class?\n",
    "\n",
    "- **A private method in Python is created by prefixing the method name with double underscores (__). This triggers name mangling, which makes the method less accessible outside the class. However, it can still be accessed indirectly via the mangled name, though this is not recommended. Private methods are typically meant to be used only within the class.**"
   ]
  },
  {
   "cell_type": "markdown",
   "id": "415eda1f-0b57-4670-aab5-6c0f7e5f606a",
   "metadata": {},
   "source": [
    "### Q32: What is a property in Python?\n",
    "\n",
    "- **In Python, a property is a way to manage attribute access in a class, allowing you to define custom behavior when getting, setting, or deleting an attribute. The @property decorator is used to define a method that can be accessed like an attribute, providing a more elegant way to control access without directly exposing internal data.**"
   ]
  },
  {
   "cell_type": "markdown",
   "id": "ebceba29-111a-48ef-b2e6-3fcb722c13ad",
   "metadata": {},
   "source": [
    "### Q33: How can you prevent a class from being inherited?\n",
    "\n",
    "To prevent a class from being inherited in Python, you can define it as a final class. While Python doesn't have a built-in keyword like final, you can achieve this by using a metaclass or by simply raising an exception in the class constructor."
   ]
  },
  {
   "cell_type": "markdown",
   "id": "55540238-6346-411d-8c9b-061b213940ab",
   "metadata": {},
   "source": [
    "### Q34: How does Python support dynamic typing in OOP?"
   ]
  }
 ],
 "metadata": {
  "kernelspec": {
   "display_name": "Python 3 (ipykernel)",
   "language": "python",
   "name": "python3"
  },
  "language_info": {
   "codemirror_mode": {
    "name": "ipython",
    "version": 3
   },
   "file_extension": ".py",
   "mimetype": "text/x-python",
   "name": "python",
   "nbconvert_exporter": "python",
   "pygments_lexer": "ipython3",
   "version": "3.12.4"
  }
 },
 "nbformat": 4,
 "nbformat_minor": 5
}
