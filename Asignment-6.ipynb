{
 "cells": [
  {
   "cell_type": "markdown",
   "id": "a3f3a06e-7776-41b0-b005-c3a4ae1b9e59",
   "metadata": {},
   "source": [
    "### Q1. What is string formatting in Python?\n",
    "\n",
    "- **A string in Python is a sequence of characters enclosed in single quotes ('...'), double quotes (\"...\"). Strings are immutable, meaning once created, they cannot be changed.**"
   ]
  },
  {
   "cell_type": "markdown",
   "id": "936a635f-2afa-421a-8ff2-1529bcd212d7",
   "metadata": {},
   "source": [
    "### Q2. How do you format strings using f-strings in Python?\n",
    "\n",
    "\n",
    "- **In Python, f-strings (formatted string literals) provide a convenient way to embed expressions inside string literals using curly braces {}. They were introduced in Python 3.6.**"
   ]
  },
  {
   "cell_type": "code",
   "execution_count": 2,
   "id": "f2ca8e6e-d497-4b61-ad56-624ab6dde866",
   "metadata": {},
   "outputs": [
    {
     "name": "stdout",
     "output_type": "stream",
     "text": [
      "Alice is 30 years old.\n"
     ]
    }
   ],
   "source": [
    "name = \"Alice\"\n",
    "age = 30\n",
    "formatted = f\"{name} is {age} years old.\"\n",
    "print(formatted)"
   ]
  },
  {
   "cell_type": "markdown",
   "id": "b74ab40c-34d7-4da3-9aa5-81ffe96022a3",
   "metadata": {},
   "source": [
    "### Q3. What is the difference between the `str.format()` method and f-strings?\n",
    "\n",
    "- **The str.format() method and f-strings both serve the purpose of formatting strings in Python, but they differ in syntax, performance, and readability.**\n",
    "\n",
    "**1) str.format() method:**\n",
    "\n",
    "**You use placeholders {} inside the string and then pass the variables or values to the .format() method. The values are inserted at the corresponding placeholders.**\n",
    "\n",
    "**2) f-strings:**\n",
    "\n",
    "**You directly embed expressions inside curly braces {} within the string, with the string prefixed by an f or F.**"
   ]
  },
  {
   "cell_type": "markdown",
   "id": "e66a4fe6-daa1-48f8-a7d7-d1eca4e3f9df",
   "metadata": {},
   "source": [
    "### Q4. What is the purpose of the `str` object in Python?\n",
    "\n",
    "- **In Python, the str object represents strings, which are sequences of characters. Strings in Python are used to store and manipulate text, and they are one of the most commonly used data types in the language.**"
   ]
  },
  {
   "cell_type": "markdown",
   "id": "f7cd5d10-a2d8-40e8-8db9-2ed6f8b6b536",
   "metadata": {},
   "source": [
    "### Q5. Can you give an example of using the `upper()` method on a string?"
   ]
  },
  {
   "cell_type": "code",
   "execution_count": 4,
   "id": "d7ecce89-e8b8-4001-ba74-a9eeaacf36b0",
   "metadata": {},
   "outputs": [
    {
     "data": {
      "text/plain": [
       "'RAMESH'"
      ]
     },
     "execution_count": 4,
     "metadata": {},
     "output_type": "execute_result"
    }
   ],
   "source": [
    "text = \"ramesh\"\n",
    "upper_text = text.upper()\n",
    "upper_text"
   ]
  },
  {
   "cell_type": "markdown",
   "id": "08a973f5-1920-4cf0-9787-3b83d1b6d893",
   "metadata": {},
   "source": [
    "### Q6. How do you define a user-defined function that takes a string and returns its length?\n",
    "\n",
    "- **You can define a user-defined function in Python that takes a string as input and returns its length using the len() function**"
   ]
  },
  {
   "cell_type": "code",
   "execution_count": 8,
   "id": "5cb4f13e-567a-408e-91a7-a3fad37483f0",
   "metadata": {},
   "outputs": [
    {
     "name": "stdout",
     "output_type": "stream",
     "text": [
      "11\n"
     ]
    }
   ],
   "source": [
    "#Example\n",
    "\n",
    "str = \"Hello World\"\n",
    "result = len(str)\n",
    "print(result)"
   ]
  },
  {
   "cell_type": "markdown",
   "id": "5b77ad61-a6f3-4317-9860-d16ec15afaed",
   "metadata": {},
   "source": [
    "### Q7. What built-in function can you use to find the index of a substring in a string?\n",
    "\n",
    "**1) find():**\n",
    " \n",
    "**Returns the lowest index of the substring if it is found. If not, it returns -1.**\n",
    "\n",
    "**2) index():**\n",
    "\n",
    "**Similar to find(), but it raises a ValueError if the substring is not found.**"
   ]
  },
  {
   "cell_type": "code",
   "execution_count": 9,
   "id": "b4b0b1d4-488e-4928-a0d2-7a02f74d4824",
   "metadata": {},
   "outputs": [
    {
     "name": "stdout",
     "output_type": "stream",
     "text": [
      "7\n"
     ]
    }
   ],
   "source": [
    "#Find() Example\n",
    "string = \"Hello, world!\"\n",
    "index = string.find(\"world\")\n",
    "print(index)"
   ]
  },
  {
   "cell_type": "code",
   "execution_count": 10,
   "id": "d92f0655-1f02-4026-bcb1-6a60f9c7e3f5",
   "metadata": {},
   "outputs": [
    {
     "name": "stdout",
     "output_type": "stream",
     "text": [
      "7\n"
     ]
    }
   ],
   "source": [
    "#index() Example\n",
    "string = \"Hello, world!\"\n",
    "index = string.index(\"world\")\n",
    "print(index)"
   ]
  },
  {
   "cell_type": "markdown",
   "id": "6f3c43df-28ba-4347-84e8-41069cb57a0c",
   "metadata": {},
   "source": [
    "### Q8. How do you concatenate two strings in Python?\n",
    "\n",
    "- **You can concatenate two strings using the + operator or the join() method.**"
   ]
  },
  {
   "cell_type": "code",
   "execution_count": 12,
   "id": "a8af055b-85f3-4b0f-b294-d508a768e103",
   "metadata": {},
   "outputs": [
    {
     "name": "stdout",
     "output_type": "stream",
     "text": [
      "Hello World\n"
     ]
    }
   ],
   "source": [
    "#Example 1\n",
    "\n",
    "string1 = \"Hello\"\n",
    "string2 = \"World\"\n",
    "result = string1 + \" \" + string2\n",
    "print(result)"
   ]
  },
  {
   "cell_type": "code",
   "execution_count": 1,
   "id": "d566c15a-7da1-40d9-9649-92c5de2614ea",
   "metadata": {},
   "outputs": [
    {
     "name": "stdout",
     "output_type": "stream",
     "text": [
      "Hello World\n"
     ]
    }
   ],
   "source": [
    "#Example 2\n",
    "\n",
    "string1 = \"Hello\"\n",
    "string2 = \"World\"\n",
    "result = \" \".join([string1, string2]) \n",
    "print(result)"
   ]
  },
  {
   "cell_type": "markdown",
   "id": "5e5bda8f-24c6-4afa-888a-185d7db7b1b0",
   "metadata": {},
   "source": [
    "### Q9. What is the purpose of the `strip()` method in string objects?\n",
    "\n",
    "- **Removes leading and trailing whitespace.**"
   ]
  },
  {
   "cell_type": "code",
   "execution_count": 13,
   "id": "96561591-39e8-47ee-a764-f87c3d67f60a",
   "metadata": {},
   "outputs": [
    {
     "data": {
      "text/plain": [
       "'Hello, World!'"
      ]
     },
     "execution_count": 13,
     "metadata": {},
     "output_type": "execute_result"
    }
   ],
   "source": [
    "whitespace_string = \"   Hello, World!   \"\n",
    "cleaned_string = whitespace_string.strip()\n",
    "cleaned_string"
   ]
  },
  {
   "cell_type": "markdown",
   "id": "a3278ec7-9187-4f13-acc5-117067d0eb09",
   "metadata": {},
   "source": [
    "### Q10. What are built-in functions in Python?\n",
    "\n",
    "- **Built-in functions are pre-defined functions provided by Python that can be used without the need to define them. They perform a variety of tasks and help simplify coding by reducing the amount of code you need to write.**"
   ]
  },
  {
   "cell_type": "markdown",
   "id": "f96d4162-bf85-4cab-8f36-c5e9d3431145",
   "metadata": {},
   "source": [
    "### Q11. Can you give examples of some common built-in functions?\n",
    "\n",
    "- **Here is some examples of buit-in function.**"
   ]
  },
  {
   "cell_type": "code",
   "execution_count": 12,
   "id": "2966ebbe-4f65-4252-a6ae-91384900f2c6",
   "metadata": {},
   "outputs": [
    {
     "name": "stdout",
     "output_type": "stream",
     "text": [
      "Hello, world!\n"
     ]
    }
   ],
   "source": [
    "#Example 1\n",
    "print(\"Hello, world!\")"
   ]
  },
  {
   "cell_type": "code",
   "execution_count": 3,
   "id": "e59e610b-198c-45f3-84b3-6fa682d02941",
   "metadata": {},
   "outputs": [
    {
     "data": {
      "text/plain": [
       "3"
      ]
     },
     "execution_count": 3,
     "metadata": {},
     "output_type": "execute_result"
    }
   ],
   "source": [
    "#Example 2\n",
    "\n",
    "len([1, 2, 3])"
   ]
  },
  {
   "cell_type": "code",
   "execution_count": 24,
   "id": "ba5b54f2-9dc3-4f33-b6a3-1bcb45fd5d67",
   "metadata": {},
   "outputs": [
    {
     "data": {
      "text/plain": [
       "int"
      ]
     },
     "execution_count": 24,
     "metadata": {},
     "output_type": "execute_result"
    }
   ],
   "source": [
    "#Example 3\n",
    "\n",
    "type(42)"
   ]
  },
  {
   "cell_type": "code",
   "execution_count": 23,
   "id": "d5df5f7b-3615-492b-80be-ed72a655d0be",
   "metadata": {},
   "outputs": [
    {
     "data": {
      "text/plain": [
       "42"
      ]
     },
     "execution_count": 23,
     "metadata": {},
     "output_type": "execute_result"
    }
   ],
   "source": [
    "#Example 4 \n",
    "\n",
    "int(\"42\")"
   ]
  },
  {
   "cell_type": "code",
   "execution_count": 15,
   "id": "b8a9b408-4c28-418f-8ca9-8666f7521d73",
   "metadata": {},
   "outputs": [
    {
     "data": {
      "text/plain": [
       "'42'"
      ]
     },
     "execution_count": 15,
     "metadata": {},
     "output_type": "execute_result"
    }
   ],
   "source": [
    "#Example 5 \n",
    "\n",
    "str(42)"
   ]
  },
  {
   "cell_type": "code",
   "execution_count": 17,
   "id": "8163f42f-47cf-47c2-a05c-e6d8ce93c848",
   "metadata": {},
   "outputs": [
    {
     "data": {
      "text/plain": [
       "10"
      ]
     },
     "execution_count": 17,
     "metadata": {},
     "output_type": "execute_result"
    }
   ],
   "source": [
    "#Example 6 \n",
    "\n",
    "sum([1, 2, 3, 4]) "
   ]
  },
  {
   "cell_type": "code",
   "execution_count": 18,
   "id": "fc748fb5-0bac-4945-b754-aa673f81179f",
   "metadata": {},
   "outputs": [
    {
     "data": {
      "text/plain": [
       "3"
      ]
     },
     "execution_count": 18,
     "metadata": {},
     "output_type": "execute_result"
    }
   ],
   "source": [
    "#Example7 \n",
    "\n",
    "max(1, 2, 3)"
   ]
  },
  {
   "cell_type": "code",
   "execution_count": 20,
   "id": "e296c4c2-ecb2-4671-99da-3e9f02e464cb",
   "metadata": {},
   "outputs": [
    {
     "data": {
      "text/plain": [
       "3.14"
      ]
     },
     "execution_count": 20,
     "metadata": {},
     "output_type": "execute_result"
    }
   ],
   "source": [
    "#Example 7 \n",
    "\n",
    "round(3.14159, 2)"
   ]
  },
  {
   "cell_type": "code",
   "execution_count": 21,
   "id": "5e581d24-8118-4853-ad23-ea35a48efa98",
   "metadata": {},
   "outputs": [
    {
     "data": {
      "text/plain": [
       "[0, 1, 2, 3, 4]"
      ]
     },
     "execution_count": 21,
     "metadata": {},
     "output_type": "execute_result"
    }
   ],
   "source": [
    "#Example 8 \n",
    "\n",
    "list(range(5))"
   ]
  },
  {
   "cell_type": "code",
   "execution_count": 22,
   "id": "9a94ba3c-9aaa-4cba-8905-2efa267599fc",
   "metadata": {},
   "outputs": [
    {
     "data": {
      "text/plain": [
       "[1, 2, 3]"
      ]
     },
     "execution_count": 22,
     "metadata": {},
     "output_type": "execute_result"
    }
   ],
   "source": [
    "#Example 9 \n",
    "\n",
    "sorted([3, 1, 2])"
   ]
  },
  {
   "cell_type": "markdown",
   "id": "923ef39e-0582-4ac6-a441-91cc0359ed90",
   "metadata": {},
   "source": [
    "### Q12. How do you define a user-defined function in Python?\n",
    "\n",
    "- **A user-defined function in Python is a reusable block of code that performs a specific task and is defined by the user. It is created using the def keyword, followed by the function name and parameters (if any).**"
   ]
  },
  {
   "cell_type": "code",
   "execution_count": 28,
   "id": "875dadd6-1f31-40dc-a701-d9716271e1e6",
   "metadata": {},
   "outputs": [
    {
     "name": "stdout",
     "output_type": "stream",
     "text": [
      "Hello, Alice!\n"
     ]
    }
   ],
   "source": [
    "#Example\n",
    "\n",
    "def greet(name):\n",
    "    return (f\"Hello, {name}!\")\n",
    "\n",
    "print(greet(\"Alice\"))"
   ]
  },
  {
   "cell_type": "markdown",
   "id": "f7647e76-bb5a-49f0-a7d7-fafcd172cdb9",
   "metadata": {},
   "source": [
    "### Q13. How can you pass multiple arguments to a function?"
   ]
  },
  {
   "cell_type": "code",
   "execution_count": 30,
   "id": "c28c7d36-9a68-44f2-babc-4b9c0a4b3004",
   "metadata": {},
   "outputs": [
    {
     "name": "stdout",
     "output_type": "stream",
     "text": [
      "{'name': 'Ramesh', 'age': 29, 'city': 'Bengaluru', 'occupation': 'Data Analyst'}\n"
     ]
    }
   ],
   "source": [
    "# Example\n",
    "\n",
    "def merge_profiles(**kwargs):\n",
    "    profile = {}\n",
    "    for key, value in kwargs.items():\n",
    "        profile[key] = value\n",
    "    return profile\n",
    "\n",
    "\n",
    "user_profile = merge_profiles(name=\"Ramesh\", age=29, city=\"Bengaluru\", occupation=\"Data Analyst\")\n",
    "print(user_profile)"
   ]
  },
  {
   "cell_type": "markdown",
   "id": "08bd8255-fcdc-4cda-9de9-25fd5b566be9",
   "metadata": {},
   "source": [
    "### Q14. How do you handle default arguments in a function?\n",
    "\n",
    "\n",
    "- **In Python, default arguments allow you to specify a default value for a function parameter. If the caller of the function does not provide a value for the parameter, the default value is used.**"
   ]
  },
  {
   "cell_type": "code",
   "execution_count": 32,
   "id": "97d1eecc-bb5c-4fb5-bd87-ab642bf4c11c",
   "metadata": {},
   "outputs": [
    {
     "name": "stdout",
     "output_type": "stream",
     "text": [
      "Hello, Guest!\n",
      "Hello, Bob!\n"
     ]
    }
   ],
   "source": [
    "# Example\n",
    "\n",
    "def greet(name=\"Guest\"):\n",
    "    return f\"Hello, {name}!\"\n",
    "\n",
    "print(greet())          \n",
    "print(greet(\"Bob\"))"
   ]
  },
  {
   "cell_type": "markdown",
   "id": "823e45c2-63e5-4e08-af4f-d794f1ddb9a4",
   "metadata": {},
   "source": [
    "### Q15. What is the difference between `args` and `kwargs` in function definitions?\n",
    "\n",
    "- **In python ,You can allow a function to accept any number of arguments using \"args\" and \"kwargs\".**"
   ]
  },
  {
   "cell_type": "markdown",
   "id": "491a0b3e-2841-4c7e-8b7f-3084789473d0",
   "metadata": {},
   "source": [
    "**1. \"args\" (Positional Arguments)**\n",
    "\n",
    "**\"args\" allows a function to accept any number of positional arguments (i.e., arguments passed by position, without explicitly naming them).**"
   ]
  },
  {
   "cell_type": "code",
   "execution_count": 33,
   "id": "42bd915b-182a-4dc0-b5cf-22bd9aa168bf",
   "metadata": {},
   "outputs": [
    {
     "name": "stdout",
     "output_type": "stream",
     "text": [
      "6\n",
      "15\n"
     ]
    }
   ],
   "source": [
    "#Example of \"arg\".\n",
    "\n",
    "def add_multiple(*args):\n",
    "    return sum(args)\n",
    "\n",
    "print(add_multiple(1, 2, 3))  \n",
    "print(add_multiple(1, 2, 3, 4, 5)) "
   ]
  },
  {
   "cell_type": "markdown",
   "id": "0607ab96-7b72-4010-bc6a-a8fa9095182e",
   "metadata": {},
   "source": [
    "\n",
    "**2. \"kwargs\" (Keyword Arguments)**\n",
    "\n",
    "**\"kwargs\" allows a function to accept any number of keyword arguments (i.e., arguments passed by name, like key=value).**"
   ]
  },
  {
   "cell_type": "code",
   "execution_count": 35,
   "id": "e15863a7-c49b-45ba-94e2-0cf08b956c39",
   "metadata": {},
   "outputs": [
    {
     "name": "stdout",
     "output_type": "stream",
     "text": [
      "name: Ramesh\n",
      "age: 29\n"
     ]
    }
   ],
   "source": [
    "#Example of \"kwarg\".\n",
    "\n",
    "def print_info(**kwargs):\n",
    "    for key, value in kwargs.items():\n",
    "        print(f\"{key}: {value}\")\n",
    "\n",
    "print_info(name=\"Ramesh\", age=29)"
   ]
  },
  {
   "cell_type": "markdown",
   "id": "2e058ac9-0962-45f8-8552-facac72b927a",
   "metadata": {},
   "source": [
    "### Q16. How can you document a user-defined function?\n",
    "\n",
    "- **Documenting a user-defined function is essential for improving code readability, maintainability, and usability. Here are steps and best practices for documenting a function in Python using docstrings.**"
   ]
  },
  {
   "cell_type": "code",
   "execution_count": 36,
   "id": "52602d8c-599b-4a4e-9ae6-d3c59961e2ff",
   "metadata": {},
   "outputs": [],
   "source": [
    "def calculate_mean(values):\n",
    "    \"\"\"\n",
    "    Calculate the arithmetic mean of a list of numbers.\n",
    "\n",
    "    Args:\n",
    "        values (list of float): A list of numerical values.\n",
    "\n",
    "    Returns:\n",
    "        float: The mean of the numbers in the list.\n",
    "\n",
    "    Raises:\n",
    "        ValueError: If the input list is empty.\n",
    "\n",
    "    Example:\n",
    "        >>> calculate_mean([1, 2, 3, 4])\n",
    "        2.5\n",
    "    \"\"\"\n",
    "    if not values:\n",
    "        raise ValueError(\"The list cannot be empty\")\n",
    "    return sum(values) / len(values)\n"
   ]
  },
  {
   "cell_type": "markdown",
   "id": "e9fbed79-adc1-41d8-b0e8-c32906e21ee1",
   "metadata": {},
   "source": [
    "### Q17. What happens if you call a function with incorrect number of arguments?"
   ]
  }
 ],
 "metadata": {
  "kernelspec": {
   "display_name": "Python 3 (ipykernel)",
   "language": "python",
   "name": "python3"
  },
  "language_info": {
   "codemirror_mode": {
    "name": "ipython",
    "version": 3
   },
   "file_extension": ".py",
   "mimetype": "text/x-python",
   "name": "python",
   "nbconvert_exporter": "python",
   "pygments_lexer": "ipython3",
   "version": "3.12.4"
  }
 },
 "nbformat": 4,
 "nbformat_minor": 5
}
