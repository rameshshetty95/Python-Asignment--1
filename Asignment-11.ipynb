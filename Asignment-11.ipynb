{
 "cells": [
  {
   "cell_type": "markdown",
   "id": "7a302670-8dce-4377-b63c-51bea1d7fe03",
   "metadata": {},
   "source": [
    "### Q1: What does the `filter` function do in Python? Provide an example Filter even numbers from a list?\n",
    "\n",
    "**Using with `filter()`**\n",
    "- **`filter()` is used to filter elements from an iterable (like a list) based on a function that returns either True or False.**."
   ]
  },
  {
   "cell_type": "code",
   "execution_count": 23,
   "id": "419c931c-10fb-46aa-91a8-5e5c428d3bc5",
   "metadata": {},
   "outputs": [
    {
     "name": "stdout",
     "output_type": "stream",
     "text": [
      "[2, 4, 6, 8, 10]\n"
     ]
    }
   ],
   "source": [
    "numbers = [1, 2, 3, 4, 5, 6, 7, 8, 9, 10]\n",
    "\n",
    "evens = list(filter(lambda x: x % 2 == 0, numbers))\n",
    "print(evens)"
   ]
  },
  {
   "cell_type": "markdown",
   "id": "1a04cfab-7f9f-4636-80a0-54318d7908e5",
   "metadata": {},
   "source": [
    "### Q2: How can you use `map` to square all the numbers in a list? Show an example.\n"
   ]
  },
  {
   "cell_type": "code",
   "execution_count": 8,
   "id": "485fed57-60f8-481a-8f49-7cedc06cb605",
   "metadata": {},
   "outputs": [
    {
     "name": "stdout",
     "output_type": "stream",
     "text": [
      "[1, 4, 9, 16, 25]\n"
     ]
    }
   ],
   "source": [
    "my_list = [1,2,3,4,5]\n",
    "\n",
    "squared_list= list(map(lambda x:x**2,my_list))\n",
    "print(squared_list)"
   ]
  },
  {
   "cell_type": "markdown",
   "id": "829f3a5f-8769-469f-9b29-534bbf2e6a42",
   "metadata": {},
   "source": [
    "###  Q3: What is the purpose of `reduce`, and how is it different from `map` and `filter`? Provide an example.\n",
    "\n",
    "- **The reduce function is used to apply a function to an iterable (such as a list) cumulatively, in order to reduce it to a single value.**\n",
    "- **Unlike map and filter, reduce returns a single value, not a collection.**"
   ]
  },
  {
   "cell_type": "code",
   "execution_count": 11,
   "id": "095aa1ef-64a7-4394-828e-bd676b5ab6d3",
   "metadata": {},
   "outputs": [
    {
     "name": "stdout",
     "output_type": "stream",
     "text": [
      "15\n"
     ]
    }
   ],
   "source": [
    "from functools import reduce\n",
    "\n",
    "numbers = [1, 2, 3, 4, 5]\n",
    "result = reduce(lambda x, y: x + y, numbers)\n",
    "print(result) \n"
   ]
  },
  {
   "cell_type": "markdown",
   "id": "b01888a4-2038-4d04-a2aa-bfffb160a46d",
   "metadata": {},
   "source": [
    "### Q4: How would you use `filter` to get all names that start with the letter &#39;A&#39; from a list?\n"
   ]
  },
  {
   "cell_type": "code",
   "execution_count": 12,
   "id": "6c76d730-7e9d-423a-b7f0-b4fcbfff20d9",
   "metadata": {},
   "outputs": [
    {
     "name": "stdout",
     "output_type": "stream",
     "text": [
      "['Arun', 'Abhi', 'Anju', 'Andrew']\n"
     ]
    }
   ],
   "source": [
    "names = ['Arun', 'ramesh', 'Abhi', 'Anju', 'Andrew', 'George']\n",
    "\n",
    "names_starting_with_A = list(filter(lambda name: name.startswith('A'), names))\n",
    "\n",
    "print(names_starting_with_A)\n"
   ]
  },
  {
   "cell_type": "markdown",
   "id": "988e33df-5dbb-42d9-a273-e44bc9f8d87b",
   "metadata": {},
   "source": [
    "###  Q5: Demonstrate how to combine `map` and `filter` in a single operation to first filter out odd numbers and then square the even numbers.\n"
   ]
  },
  {
   "cell_type": "code",
   "execution_count": 13,
   "id": "0d15decd-b92d-442b-8e9a-97789eb802c9",
   "metadata": {},
   "outputs": [
    {
     "name": "stdout",
     "output_type": "stream",
     "text": [
      "[4, 16, 36, 64, 100]\n"
     ]
    }
   ],
   "source": [
    "numbers = [1, 2, 3, 4, 5, 6, 7, 8, 9, 10]\n",
    "\n",
    "result = map(lambda x: x ** 2, filter(lambda x: x % 2 == 0, numbers))\n",
    "\n",
    "result_list = list(result)\n",
    "\n",
    "print(result_list)\n"
   ]
  },
  {
   "cell_type": "markdown",
   "id": "a7a25c67-2b3c-46ba-8495-420155413d4f",
   "metadata": {},
   "source": [
    "### Q6: Write a function that uses `reduce` to find the maximum number in a list.\n"
   ]
  },
  {
   "cell_type": "code",
   "execution_count": 15,
   "id": "867e698a-ac4a-4bd5-bfb4-94ccf9a440bc",
   "metadata": {},
   "outputs": [
    {
     "name": "stdout",
     "output_type": "stream",
     "text": [
      "10\n"
     ]
    }
   ],
   "source": [
    "from functools import reduce\n",
    "\n",
    "def find_maximum(list):\n",
    "    return reduce(lambda a, b: a if a > b else b, list)\n",
    "\n",
    "numbers = [3, 5, 1, 10, 2]\n",
    "max_number = find_maximum(numbers)\n",
    "print(max_number) \n"
   ]
  },
  {
   "cell_type": "markdown",
   "id": "27f80f99-6e6c-42e4-83b3-db9cd14a8315",
   "metadata": {},
   "source": [
    "### Q7: Create a list of lengths of each word in a given list using `map`.\n"
   ]
  },
  {
   "cell_type": "code",
   "execution_count": 18,
   "id": "a5eee038-6b57-4f6d-9e23-d7dd6b582f02",
   "metadata": {},
   "outputs": [
    {
     "name": "stdout",
     "output_type": "stream",
     "text": [
      "[5, 5, 6, 11, 8, 9]\n"
     ]
    }
   ],
   "source": [
    "words = ['Hello','World','Python','Programming','Language','Cambridge']\n",
    "\n",
    "len_words = list(map(len,words))\n",
    "print(len_words)"
   ]
  },
  {
   "cell_type": "markdown",
   "id": "8063560b-9903-4064-8624-b967a534ed74",
   "metadata": {},
   "source": [
    "### Q8: How can you use `filter` to remove all negative numbers from a list?\n"
   ]
  },
  {
   "cell_type": "code",
   "execution_count": 19,
   "id": "9cedadb3-9d6e-46f0-a937-3e10fc16b387",
   "metadata": {},
   "outputs": [
    {
     "name": "stdout",
     "output_type": "stream",
     "text": [
      "[1, 3, 4, 6]\n"
     ]
    }
   ],
   "source": [
    "num = [1,-2,3,4,-5,6,-7]\n",
    "negative = list(filter(lambda x:x>=0,num))\n",
    "print(negative)"
   ]
  },
  {
   "cell_type": "markdown",
   "id": "a13cc0a0-1455-4449-9a89-6af37c38f64b",
   "metadata": {},
   "source": [
    "### Q9: Explain the significance of using `functools.reduce` instead of a simple loop to compute\n",
    "\n",
    "- **In Python, `functools.reduce` is often compared to a loop when it comes to applying a function cumulatively to the items of a sequence, but there are key distinctions in both style and functionality that highlight its significance.**"
   ]
  }
 ],
 "metadata": {
  "kernelspec": {
   "display_name": "Python 3 (ipykernel)",
   "language": "python",
   "name": "python3"
  },
  "language_info": {
   "codemirror_mode": {
    "name": "ipython",
    "version": 3
   },
   "file_extension": ".py",
   "mimetype": "text/x-python",
   "name": "python",
   "nbconvert_exporter": "python",
   "pygments_lexer": "ipython3",
   "version": "3.12.4"
  }
 },
 "nbformat": 4,
 "nbformat_minor": 5
}
