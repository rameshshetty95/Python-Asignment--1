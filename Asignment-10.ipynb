{
 "cells": [
  {
   "cell_type": "markdown",
   "id": "8b3dafd2-d65e-451f-a628-0d1ddfd1b799",
   "metadata": {},
   "source": [
    "###  Q1: What is a list `comprehension` in Python?\n",
    "\n",
    "- **`List comprehension` is a concise way to create lists in Python. It allows you to generate a new list by applying an expression to each item in an existing iterable (like a list, tuple, or string) while optionally filtering items.**"
   ]
  },
  {
   "cell_type": "markdown",
   "id": "4c843426-2ca1-49d4-997a-6d1d600b3700",
   "metadata": {},
   "source": [
    "###  Q2: How can you create a list of squares of numbers from 0 to 9 using a list comprehension?\n",
    "\n",
    "- **You can create a list of squares of numbers from 0 to 9 using the following list comprehension:**"
   ]
  },
  {
   "cell_type": "code",
   "execution_count": 30,
   "id": "86cec73d-33c6-4c22-8982-fe257e76ab75",
   "metadata": {},
   "outputs": [
    {
     "name": "stdout",
     "output_type": "stream",
     "text": [
      "[0, 1, 4, 9, 16, 25, 36, 49, 64, 81]\n"
     ]
    }
   ],
   "source": [
    "x=[]\n",
    "squared_num = [num**2 for num in range(10)]\n",
    "\n",
    "print(squared_num)"
   ]
  },
  {
   "cell_type": "markdown",
   "id": "d29648a4-93d0-4f7e-a6fa-120762d0d4a8",
   "metadata": {},
   "source": [
    "###  Q3: What is a lambda function in Python?\n",
    "\n",
    "- **A lambda function is a small, anonymous function defined using the `lambda` keyword. It can take any number of arguments but can only have one expression.**"
   ]
  },
  {
   "cell_type": "markdown",
   "id": "8debdb24-dc79-40d0-9bdb-1eb536f60a12",
   "metadata": {},
   "source": [
    "###  Q4: How can you use a lambda function to add two numbers?\n",
    "\n",
    "- **A simple lambda function that adds two numbers:**"
   ]
  },
  {
   "cell_type": "code",
   "execution_count": 8,
   "id": "b42eff50-c626-4faf-ac3e-7d0df4788416",
   "metadata": {},
   "outputs": [
    {
     "name": "stdout",
     "output_type": "stream",
     "text": [
      "18\n"
     ]
    }
   ],
   "source": [
    "add = lambda x,y: x+y\n",
    "\n",
    "result = add(10,8)\n",
    "print(result)"
   ]
  },
  {
   "cell_type": "markdown",
   "id": "fe5ef6a5-f860-4ad5-94c8-d40127025366",
   "metadata": {},
   "source": [
    "###  Q5: Write a list comprehension to extract the first letter of each word from the below list.\n",
    "###  words = [&#39;apple&#39;, &#39;banana&#39;, &#39;cherry&#39;]\n",
    "\n"
   ]
  },
  {
   "cell_type": "code",
   "execution_count": 9,
   "id": "8a455350-8265-4e06-be8b-0ece7be3e871",
   "metadata": {},
   "outputs": [
    {
     "name": "stdout",
     "output_type": "stream",
     "text": [
      "['a', 'b', 'c']\n"
     ]
    }
   ],
   "source": [
    "words = ['apple', 'banana', 'cherry']\n",
    "\n",
    "first_lettres = [word[0]for word in words]\n",
    "print(first_lettres)"
   ]
  },
  {
   "cell_type": "markdown",
   "id": "bb5c97de-db8b-406f-8a5c-fb981aba7ca4",
   "metadata": {},
   "source": [
    "###  Q6: How do you create a list of even numbers from 0 to 20 using a list comprehension?"
   ]
  },
  {
   "cell_type": "code",
   "execution_count": 29,
   "id": "de86f37c-9395-4597-919d-172b8eda6556",
   "metadata": {},
   "outputs": [
    {
     "name": "stdout",
     "output_type": "stream",
     "text": [
      "[0, 2, 4, 6, 8, 10, 12, 14, 16, 18, 20]\n"
     ]
    }
   ],
   "source": [
    "x=[]\n",
    "even_num = [x for x in range(21) if x%2==0]\n",
    "\n",
    "print(even_num)"
   ]
  },
  {
   "cell_type": "markdown",
   "id": "f4395cb9-fc96-421a-b2c4-3fe004acb702",
   "metadata": {},
   "source": [
    "###  Q7: What will be the output of this list comprehension? `[x * 2 for x in range(5)]`"
   ]
  },
  {
   "cell_type": "code",
   "execution_count": 28,
   "id": "66093087-8df0-4f14-b084-61e00f05d70d",
   "metadata": {},
   "outputs": [
    {
     "name": "stdout",
     "output_type": "stream",
     "text": [
      "[0, 2, 4, 6, 8]\n"
     ]
    }
   ],
   "source": [
    "x = []\n",
    "a = [x * 2 for x in range(5)]\n",
    "print(a)"
   ]
  },
  {
   "cell_type": "markdown",
   "id": "22737320-07ee-4512-92ca-eaa1d4ff9d90",
   "metadata": {},
   "source": [
    "###  Q8: How can you combine a list comprehension with a lambda function?\n",
    "\n",
    "- **You can combine a list comprehension with a lambda function by applying the lambda function to each element in the list comprehension.**"
   ]
  },
  {
   "cell_type": "code",
   "execution_count": 15,
   "id": "2b24439e-814a-448e-ac1e-03be83fb9cac",
   "metadata": {},
   "outputs": [
    {
     "name": "stdout",
     "output_type": "stream",
     "text": [
      "[1, 4, 9, 16, 25]\n"
     ]
    }
   ],
   "source": [
    "numbers = [1, 2, 3, 4, 5]\n",
    "\n",
    "squared_numbers = [(lambda x: x ** 2)(num) for num in numbers]\n",
    "\n",
    "print(squared_numbers)"
   ]
  },
  {
   "cell_type": "markdown",
   "id": "1a9139a0-1f95-4f1d-9dbe-545336c9264a",
   "metadata": {},
   "source": [
    "###  Q9: Write a list comprehension to generate a list of the lengths of words in a given list.\n"
   ]
  },
  {
   "cell_type": "code",
   "execution_count": 16,
   "id": "0907b73e-52c9-4e08-ab2f-2572ab421f3e",
   "metadata": {},
   "outputs": [
    {
     "name": "stdout",
     "output_type": "stream",
     "text": [
      "[5, 6, 6, 8]\n"
     ]
    }
   ],
   "source": [
    "words = ['Apple','Banana','Cherry','Pineaple']\n",
    "\n",
    "len_world = [len(word) for word in words]\n",
    "\n",
    "print(len_world)"
   ]
  },
  {
   "cell_type": "markdown",
   "id": "28eb0ae2-6fad-4f90-ab79-cf4e5550c639",
   "metadata": {},
   "source": [
    "###  Q10: How can you use a lambda function to filter out odd numbers from a list?"
   ]
  },
  {
   "cell_type": "code",
   "execution_count": 19,
   "id": "9d339bd7-efcd-4aa8-90d4-15955ca589db",
   "metadata": {},
   "outputs": [
    {
     "name": "stdout",
     "output_type": "stream",
     "text": [
      "[1, 3, 5, 7, 9]\n"
     ]
    }
   ],
   "source": [
    "my_list = [1,2,3,4,5,6,7,8,9]\n",
    "\n",
    "filter_list = list(filter(lambda x:x%2==1, my_list))\n",
    "print(filter_list)"
   ]
  },
  {
   "cell_type": "markdown",
   "id": "03de5302-9e52-492a-8e73-0a085d61d670",
   "metadata": {},
   "source": [
    "###  Q11: What is the result of this list comprehension? `[(x, x**2) for x in range(3)]`"
   ]
  },
  {
   "cell_type": "code",
   "execution_count": 27,
   "id": "643b553c-9d29-4b1c-a69e-78885c113291",
   "metadata": {},
   "outputs": [
    {
     "name": "stdout",
     "output_type": "stream",
     "text": [
      "[(0, 0), (1, 1), (2, 4)]\n"
     ]
    }
   ],
   "source": [
    "x = []\n",
    "a =[(x, x**2) for x in range(3)]\n",
    "print(a)"
   ]
  },
  {
   "cell_type": "markdown",
   "id": "515e29f9-3214-4fde-abd2-19d561e91dc8",
   "metadata": {},
   "source": [
    "###  Q12: Write a list comprehension to create a list of the first five squares of even numbers."
   ]
  },
  {
   "cell_type": "code",
   "execution_count": 26,
   "id": "3738a720-4e23-4e7c-8026-09d0e8bb333d",
   "metadata": {},
   "outputs": [
    {
     "name": "stdout",
     "output_type": "stream",
     "text": [
      "[4, 16, 36, 64, 100]\n"
     ]
    }
   ],
   "source": [
    "x = []\n",
    "square_even_num = [x**2 for x in range(2,12,2)]\n",
    "print(square_even_num)"
   ]
  },
  {
   "cell_type": "markdown",
   "id": "261e21b4-f692-4dda-9f78-1b0b38a465f2",
   "metadata": {},
   "source": [
    "###  Q13: Write a list comprehension to create a list of uppercase of the words in a list.\n",
    "###  words = [&#39;apple&#39;, &#39;banana&#39;, &#39;cherry&#39;]"
   ]
  },
  {
   "cell_type": "code",
   "execution_count": 32,
   "id": "cfe770aa-4f8b-47dc-b07e-a20434abc7ce",
   "metadata": {},
   "outputs": [
    {
     "name": "stdout",
     "output_type": "stream",
     "text": [
      "['APPLE', 'BANANA', 'CHERRY']\n"
     ]
    }
   ],
   "source": [
    "words = ['apple', 'banana', 'cherry']\n",
    "\n",
    "upper_case =[word.upper() for word in words]\n",
    "print(upper_case)"
   ]
  },
  {
   "cell_type": "markdown",
   "id": "10bb5554-1d58-4044-83af-4da2612f3323",
   "metadata": {},
   "source": [
    "###  Q14: What will the following list comprehension produce? `[x for x in range(5) if x == 2]`"
   ]
  },
  {
   "cell_type": "code",
   "execution_count": 33,
   "id": "5c87ea7d-c538-4c77-88e7-335551313730",
   "metadata": {},
   "outputs": [
    {
     "name": "stdout",
     "output_type": "stream",
     "text": [
      "[2]\n"
     ]
    }
   ],
   "source": [
    "x = []\n",
    "\n",
    "y=[x for x in range(5) if x == 2]\n",
    "print(y)"
   ]
  },
  {
   "cell_type": "markdown",
   "id": "c6089e9f-7c91-4b5e-88cd-43afbb812b23",
   "metadata": {},
   "source": [
    "###  Q15: Explain how a lambda function can be assigned to a variable.\n",
    "\n",
    "- **You can assign a lambda function to a variable in the same way you would assign any other value to a variable. This allows you to call the lambda function later using that variable.**"
   ]
  },
  {
   "cell_type": "code",
   "execution_count": 34,
   "id": "50a8e4bc-f532-4ca8-871d-15930a1776c3",
   "metadata": {},
   "outputs": [
    {
     "name": "stdout",
     "output_type": "stream",
     "text": [
      "8\n"
     ]
    }
   ],
   "source": [
    "# Assigning a lambda function to a variable\n",
    "add = lambda x, y: x + y\n",
    "\n",
    "# Using the variable to call the lambda function\n",
    "result = add(3, 5)\n",
    "\n",
    "print(result) "
   ]
  },
  {
   "cell_type": "markdown",
   "id": "80ae3e13-c949-40d8-b1b6-54deca39cd19",
   "metadata": {},
   "source": [
    "###  Q16: How do you use a list comprehension to flatten a list of lists?\n",
    "###  Convert this list list_of_lists = [[1, 2], [3, 4], [5]] on the excepted output [1, 2, 3, 4, 5]."
   ]
  },
  {
   "cell_type": "code",
   "execution_count": 35,
   "id": "ab451504-65e5-4ad4-ad1e-cb8a08e1bacd",
   "metadata": {},
   "outputs": [
    {
     "name": "stdout",
     "output_type": "stream",
     "text": [
      "[1, 2, 3, 4, 5]\n"
     ]
    }
   ],
   "source": [
    "list_of_lists = [[1, 2], [3, 4], [5]]\n",
    "\n",
    "flattened_list = [item for sublist in list_of_lists for item in sublist]\n",
    "\n",
    "print(flattened_list)"
   ]
  },
  {
   "cell_type": "code",
   "execution_count": null,
   "id": "304c252b-e143-450c-9647-f045a3ff4e5d",
   "metadata": {},
   "outputs": [],
   "source": []
  }
 ],
 "metadata": {
  "kernelspec": {
   "display_name": "Python 3 (ipykernel)",
   "language": "python",
   "name": "python3"
  },
  "language_info": {
   "codemirror_mode": {
    "name": "ipython",
    "version": 3
   },
   "file_extension": ".py",
   "mimetype": "text/x-python",
   "name": "python",
   "nbconvert_exporter": "python",
   "pygments_lexer": "ipython3",
   "version": "3.12.4"
  }
 },
 "nbformat": 4,
 "nbformat_minor": 5
}
