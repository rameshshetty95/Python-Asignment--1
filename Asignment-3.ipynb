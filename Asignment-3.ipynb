{
 "cells": [
  {
   "cell_type": "markdown",
   "id": "e99cb508-16a5-4d09-b5d1-960ebdfbd69f",
   "metadata": {},
   "source": [
    "### Q1. What are Data Structures in Python?\n",
    "\n",
    "**Data structures are ways to organize and store data efficiently. They help you manage and manipulate data in various ways. The most commonly used data structures in Python are** \n",
    "\n",
    "**1)List,**\n",
    "\n",
    "**2)Tuple,**\n",
    "\n",
    "**3)Set,**\n",
    "\n",
    "**4)Dictionary**                                                                                          **ifferences."
   ]
  },
  {
   "cell_type": "markdown",
   "id": "3d18d868-de42-4e2a-9717-4b1b60df347b",
   "metadata": {},
   "source": [
    "### Q2. Define a List in Python and provide an example of how to use it.\n",
    "\n",
    "<font color='red' size=3> Lists:-\n",
    "\r",
    "**LLists are like collections or ordered groups of items. You can think of them as a row of boxes where each box can hold a value. Lists are flexible and allow you to change their contents**\n",
    "\n",
    ".**fruits = [\"apple\", \"banana\", \"cherry\"]**\n",
    "\r\n",
    "\n",
    "**\n",
    "Accessing Items**\n",
    "\n",
    "**\n",
    "\r\n",
    "print(fruits[**0] )  # Outp-t: ap.\n",
    "\n",
    "**le\r\n",
    "Modifying It**em**s:\r\n",
    "\r\n",
    "frui=[1] = \"blue**b\n",
    "**erry\"\r\n",
    "Adding** I**tems:\r\n",
    "\r\n",
    "fruits.append(**\"orange\")."
   ]
  },
  {
   "cell_type": "markdown",
   "id": "bf9d9e77-e49e-4283-8b02-94f9a5b2b3dd",
   "metadata": {},
   "source": [
    "### Q3. What is a Tuple in Python and how is it different from a List?\n",
    "\n",
    "<font color='red' size=3>Tuples:-\n",
    "\n",
    "**\n",
    "Tuples are similar to lists, but they are immutable. This means once you create a tuple, you cannot change its contentsBut Lists are flexible and allow you to change their contents.. They are used when you want to ensure that the data remains constat**."
   ]
  },
  {
   "cell_type": "markdown",
   "id": "0cafa2ed-0d37-44ed-957b-05c112627a3e",
   "metadata": {},
   "source": [
    "### Q4. Explain what a Set is in Python and provide an example of its usage.\n",
    "\n",
    "<font color='red' sizde=3> Sets:-\n",
    "\n",
    "**Sets are collections of unique items. They are like bags where you put items in, and each item can only appear once. Sets are used when you need to store a collection of unique elements.**\n",
    "\n",
    "**Example :-**\n",
    "\n",
    "**creating a Set:**\r\n",
    "**\r\n",
    "colors = {\"red\", \"green\", \"blue**\n",
    "\n",
    "\"**}\r\n",
    "Adding Ite**ms**:\r\n",
    "\r\n",
    "colors.add(\"yel #output {\"red\", \"green\", \"blue\",\"yellow}**\n",
    "\n",
    "l**ow\")\r\n",
    "Removing **It**ems:\r\n",
    "\r\n",
    "colors.remov #output {\"green\", \"blue\",\"yellow}**e(\"red\")"
   ]
  },
  {
   "cell_type": "markdown",
   "id": "dadd8ff3-2a5e-4f26-ba6f-b5c4ce4c409c",
   "metadata": {},
   "source": [
    "### Q5. Describe a Dictionary in Python and give an example of its usage.\n",
    "\n",
    "<font color='red' size=3> Dictionaries:-\n",
    "\n",
    "\n",
    "**Dictionaries are collections of key-value pairs. They are like an address book where you look up a person's name (key) to find their phone number (value).Dictionaries are useful when you want to associate values with specific keys.**\n"
   ]
  },
  {
   "cell_type": "markdown",
   "id": "ae38dd61-5e31-481e-84de-6fd43ece58e1",
   "metadata": {},
   "source": [
    "### Q6. Compare and contrast Lists and Tuples. When would you choose one over the other\n",
    "\n",
    "**Use a list if you need a mutable collection of items where you may need to add, remove, or change elements. Lists are more flexible and have more built-in methods, making them ideal for dynamic collections. Use a tuple if you need an immutable collection where the elements won't change after creation.**"
   ]
  },
  {
   "cell_type": "markdown",
   "id": "4cac4970-85c0-4b9e-bd10-291ce9a36cb0",
   "metadata": {},
   "source": [
    "### Q7. How does a Set differ from a List and a Dictionary? Provide examples to illustrate these differences.\n",
    "\n",
    "<font color='red' sizde=3> Sets:-\n",
    "\n",
    "1 **Sets are mutable, iterable collections of unique data types.** \n",
    " \n",
    "\n",
    "**Set example:-**\r\n",
    "my_set = {1, 2, 3, 4, 5}\r\n",
    "print(my_set)  # Output: {1, 2, 3, 4, \n",
    "5}\n",
    "**Trying to a a duplicate value**\n",
    " alue\r\n",
    "my_set.add(3)\r\n",
    "print(my_set)  # Output: {1, 2, 3, 4, 5} - no duplicate\n",
    " <font color='red' size=3> Lists:-\n",
    "\n",
    "2 **A list is a non-homogeneous data structure that stores elements in columns and rows.**\n",
    "\n",
    "**List example:-**\n",
    "\n",
    "my_list = [1, 2, 3, 4, 5]\n",
    "print(my_list)  # Output: [1, 2, 3, 4, 5]\n",
    "\n",
    "**Adding a duplicate value**\n",
    " \n",
    "my_list.append(3)\n",
    "print(my_list)  # Output: [1, 2, 3, 4, 5, 3]\n",
    "\n",
    "<font color='red' size=3> Dictionaries:-\n",
    "\n",
    "3 **A dictionary in Python is an unordered collection used for storing key: value pairs.**\n",
    "\n",
    "**Dictionary example**\n",
    "\n",
    "my_dict = {'a': 1, 'b': 2, 'c': 3}\n",
    "print(my_dict)  # Output: {'a': 1, 'b': 2, 'c': 3}\n",
    "\n",
    "**Accessing a value by key**\n",
    "\n",
    "print(my_dict['b'])  # Output: 2\n",
    "\n",
    "**Modifying a value**\n",
    "\n",
    "my_dict['b'] = 10\n",
    "print(my_dict)  # Output: {'a': 1, 'b': 10, 'c': 3}added\r\n"
   ]
  }
 ],
 "metadata": {
  "kernelspec": {
   "display_name": "Python 3 (ipykernel)",
   "language": "python",
   "name": "python3"
  },
  "language_info": {
   "codemirror_mode": {
    "name": "ipython",
    "version": 3
   },
   "file_extension": ".py",
   "mimetype": "text/x-python",
   "name": "python",
   "nbconvert_exporter": "python",
   "pygments_lexer": "ipython3",
   "version": "3.12.4"
  }
 },
 "nbformat": 4,
 "nbformat_minor": 5
}
