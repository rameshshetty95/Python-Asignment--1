{
 "cells": [
  {
   "cell_type": "markdown",
   "id": "3394dc2a-9286-4dac-88a1-0e721cf73273",
   "metadata": {},
   "source": [
    "### Q1. What is a while loop in Python?\n",
    "\n",
    "- **A while loop is a control flow statement in programming languages that executes code repeatedly based on a given condition.**"
   ]
  },
  {
   "cell_type": "markdown",
   "id": "e226f2f9-d4c2-4a4c-9fc8-f11b5126208f",
   "metadata": {},
   "source": [
    "### Q2. How do you write a simple while loop in Python?\n",
    "\n",
    "- **In Python, a simple while loop continues to execute as long as a specified condition is true.**"
   ]
  },
  {
   "cell_type": "code",
   "execution_count": 3,
   "id": "67bd9687-e9b2-4bbb-beea-81fb87ff5a40",
   "metadata": {},
   "outputs": [
    {
     "name": "stdout",
     "output_type": "stream",
     "text": [
      "1\n",
      "2\n",
      "3\n"
     ]
    }
   ],
   "source": [
    "#Example\n",
    "\n",
    "number = 1\n",
    "\n",
    "while number <= 3:\n",
    "    print(number)\n",
    "    number = number + 1"
   ]
  },
  {
   "cell_type": "markdown",
   "id": "ebfe6869-7228-49f3-9111-18ba7013b4d4",
   "metadata": {},
   "source": [
    "### Q3. What happens if the condition in a while loop is never false?\n",
    "\n",
    "\n",
    "- **If the condition in a while loop is never false, the loop will continue to execute indefinitely, resulting in what is called an infinite loop. This means the code inside the loop will repeatedly run without stopping.**"
   ]
  },
  {
   "cell_type": "markdown",
   "id": "4bb05da8-6057-4bc8-89df-8d08067bb7bd",
   "metadata": {},
   "source": [
    "### Q4. How can you exit a while loop prematurely?\n",
    "\n",
    "- **Pressing Ctrl + C then we can easily exit a while loop permanently.**"
   ]
  },
  {
   "cell_type": "markdown",
   "id": "46382eee-fb5f-4f21-b9dd-3bcb84ee9804",
   "metadata": {},
   "source": [
    "### Q5. Can you give an example of a while loop that counts from 1 to 5?"
   ]
  },
  {
   "cell_type": "code",
   "execution_count": 17,
   "id": "a05bb1d4-0bf4-481e-a6bd-456ddd0aaa26",
   "metadata": {},
   "outputs": [
    {
     "name": "stdout",
     "output_type": "stream",
     "text": [
      "The count is: 0\n",
      "The count is: 1\n",
      "The count is: 2\n",
      "The count is: 3\n",
      "The count is: 4\n"
     ]
    }
   ],
   "source": [
    "count = 0\n",
    "while (count < 5):\n",
    "    print(\"The count is:\", count)\n",
    "    count = count+1"
   ]
  },
  {
   "cell_type": "markdown",
   "id": "3c6b737b-b475-4133-89c9-3cf923ebf571",
   "metadata": {},
   "source": [
    "### Q6. What is the role of the increment statement in a while loop?\n",
    "\n",
    "- **The increment statement in a while loop changes the loop control variable after each iteration of the loop.**"
   ]
  },
  {
   "cell_type": "markdown",
   "id": "12418161-672a-4cdf-b4b9-1546bf8f353b",
   "metadata": {},
   "source": [
    "### Q7. Can a while loop be nested inside another while loop?\n",
    "\n",
    "- **Yes, a while loop can be nested inside another while loop in Python. This is known as nested loops, and it works the same way as with any other type of loop.**"
   ]
  },
  {
   "cell_type": "code",
   "execution_count": 2,
   "id": "e1749e14-c648-48be-b148-d26c2ae874d9",
   "metadata": {},
   "outputs": [
    {
     "name": "stdout",
     "output_type": "stream",
     "text": [
      "1 2 3 4 5 6 7 8 9 \n",
      "2 3 4 5 6 7 8 9 \n",
      "3 4 5 6 7 8 9 \n",
      "4 5 6 7 8 9 \n",
      "5 6 7 8 9 \n",
      "6 7 8 9 \n",
      "7 8 9 \n",
      "8 9 \n",
      "9 \n",
      "Complete!\n"
     ]
    }
   ],
   "source": [
    "#Example\n",
    "\n",
    "i = 1\n",
    "while i < 10:\n",
    "    j = i\n",
    "    while j < 10:\n",
    "        print(f\"{j} \", end=\"\")\n",
    "        j = j + 1\n",
    "    print(\"\")\n",
    "    i = i + 1\n",
    "print(\"Complete!\")"
   ]
  },
  {
   "cell_type": "markdown",
   "id": "692b27c8-76fc-4a8d-b5e2-7d1f997b8d84",
   "metadata": {},
   "source": [
    "### Q8. What is an infinite loop, and how can you create one?\n",
    "\n",
    "- **In Python, an infinite loop is typically created using the while loop, where the condition always evaluates to True. Since the condition never becomes False, the loop continues executing forever unless interrupted manually or via a control mechanism (like break).**"
   ]
  },
  {
   "cell_type": "code",
   "execution_count": null,
   "id": "d20c43e5-cf7b-48b0-ab1b-b0687ef1a2c4",
   "metadata": {},
   "outputs": [],
   "source": [
    "while True:\n",
    "    print(\"This will run forever\")"
   ]
  },
  {
   "cell_type": "markdown",
   "id": "6a14b738-acb0-4475-bd26-7afdf2812a56",
   "metadata": {},
   "source": [
    "### Q9. How can you prevent an infinite loop?\n",
    "\n"
   ]
  },
  {
   "cell_type": "markdown",
   "id": "392c3880-17a7-459d-8a07-7fe8ee5444a3",
   "metadata": {},
   "source": [
    "### Q10. What is the difference between a while loop and a for loop in Python?\n",
    "\n",
    "- **In Python, both while and for loops are used to execute a block of code repeatedly, but they differ in terms of how they are structured and when they are used.**\n",
    "\n",
    "**1. while Loop**\n",
    "\n",
    "**A while loop repeats as long as a specified condition is True. It is generally used when the number of iterations is not known beforehand and depends on a condition that is evaluated during the loop execution.**\n",
    "\n",
    "**2. for Loop**\n",
    "\n",
    "**A for loop iterates over a sequence (like a list, tuple, string, or range) and executes the block of code for each element in that sequence. It's commonly used when the number of iterations is known or when iterating over a collection of data.**"
   ]
  },
  {
   "cell_type": "code",
   "execution_count": null,
   "id": "0383f3cf-cd25-412a-aae6-3fb0d69adebb",
   "metadata": {},
   "outputs": [],
   "source": []
  }
 ],
 "metadata": {
  "kernelspec": {
   "display_name": "Python 3 (ipykernel)",
   "language": "python",
   "name": "python3"
  },
  "language_info": {
   "codemirror_mode": {
    "name": "ipython",
    "version": 3
   },
   "file_extension": ".py",
   "mimetype": "text/x-python",
   "name": "python",
   "nbconvert_exporter": "python",
   "pygments_lexer": "ipython3",
   "version": "3.12.4"
  }
 },
 "nbformat": 4,
 "nbformat_minor": 5
}
