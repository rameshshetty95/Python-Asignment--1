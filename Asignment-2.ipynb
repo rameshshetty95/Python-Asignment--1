{
 "cells": [
  {
   "cell_type": "markdown",
   "id": "1a1f0de1-217e-41d5-912a-59ac8b5f1ab4",
   "metadata": {},
   "source": [
    "### Q1 What is the difference between = and == in Python?\n",
    "\n",
    "- **In Python, = and == serve different purposes**\n",
    "- **= (Assignment Operator): This is used to assign a value to a variable.**\n",
    "- **== (Equality Operator): This is used to compare two values to check if they are equal.**\n",
    "  \n",
    "  **It returns True if the values are equal and False otherwise perator?**"
   ]
  },
  {
   "cell_type": "markdown",
   "id": "d7c71c21-f1b3-4a66-afbe-b77d383b2496",
   "metadata": {},
   "source": [
    "### Q2. How does the not operator work with boolean values?\n",
    "\n",
    " **The not operator in Python is a logical operator that is used to negate or reverse a boolean value.** \n",
    " **Here's how it works with boolean values:**\n",
    "\n",
    "- **If the value is True, applying not makes it False.**\n",
    "- **If the value is False, applying not makes it True.**\n",
    "\n",
    "    \n"
   ]
  },
  {
   "cell_type": "markdown",
   "id": "42beb6cc-a1ac-42a6-8b07-bf7ba896276a",
   "metadata": {},
   "source": [
    "### Q3. Can you give an example of using the &  bitwise operator?\n",
    "\n",
    "**The bitwise & operator compares two numbers on a bit level and returns a new number,** \n",
    "**where the bits of that number are set to 1 only if both corresponding bits of the two operands are 1.** \n",
    "**If either of the bits is 0, the result at that bit position is 0.**\n",
    "\n",
    "**Here's an example:**\n",
    "\n",
    "**Let's take two numbers, 6 and 3:**\n",
    "\n",
    "**In binary:**\n",
    "\n",
    "**6 is 110 (in 3 bits)**\n",
    "\n",
    "**3 is 011 (in 3 bits)**\n",
    "\n",
    "**If we apply the & operator on these two numbers:**"
   ]
  },
  {
   "cell_type": "markdown",
   "id": "4f8f93d0-a563-4986-8c7e-8fd277e13513",
   "metadata": {},
   "source": [
    "### Q4. How do you use the or logical operator in a condition?\n",
    "\n",
    "**Logical OR (or): Returns True if at least one of the operands is True.**\n",
    "\n",
    "**Example:**\n",
    "**result = (a > 0) or (b > 5)** <font color='Red' size=3>  # result is True if at least one condition is True\n"
   ]
  },
  {
   "cell_type": "markdown",
   "id": "f8e1379c-92db-4628-91b2-e02da058c7b7",
   "metadata": {},
   "source": [
    "### Q5. How do you use the is operator in Python?\n",
    "\n",
    "**is: Returns True if both operands refer to the same object.**\r\n",
    "\n",
    "\r\n",
    "Exampl\n",
    "\n",
    "e**:\r\n",
    "a = [1, 2,**\n",
    " **3]\r\n",
    "b**\n",
    " **= a\r\n",
    "result = (a **is <font color='Red' size=3>  b)  # result is ator?"
   ]
  },
  {
   "cell_type": "markdown",
   "id": "e7edf2e3-8dea-4f05-8adf-f1b1f3d1d388",
   "metadata": {},
   "source": [
    "### Q6. What is the difference between is and == when comparing two strings in Python?\n",
    "\n",
    "**- (==): It Checks if two operands are equal.**\n",
    "\r",
    "**- (is): Returns True if both operands refer to the same object.**\r",
    "tor?"
   ]
  },
  {
   "cell_type": "markdown",
   "id": "64f789de-f260-452c-8670-d18507fc5ce7",
   "metadata": {},
   "source": [
    "### Q7. Can you give an example of how the not in membership operator works?\n",
    "\n",
    "-**a = [1,2,3,4,5,6,7,9]**\n",
    "\n",
    "-**result = 8 not in [a]**\n",
    "\n",
    "-**print(result)**<font color='Red' size=3> #Result is TRUE.\n"
   ]
  },
  {
   "cell_type": "markdown",
   "id": "aca76f5b-3426-4612-b4f8-ffc963432989",
   "metadata": {},
   "source": [
    "### Q8. How do you use the >= (greater than or equal to) comparison operator?\n",
    "\n",
    "**Greater than or equal to (>=):** \n",
    "\n",
    "**It Checks if the first operand is greater than or equal to the second.**\n",
    "\n",
    "**Example:**\n",
    "\n",
    "**result = (a >= b)**  <font color='Red' size=3> # result is True\n",
    "       \n",
    "\n"
   ]
  },
  {
   "cell_type": "markdown",
   "id": "3088639e-f37a-498d-9d40-81127dcbeb41",
   "metadata": {},
   "source": [
    "### Q9. Can you show how to use the in membership operator?\n",
    "\n",
    "**(in): It Returns True if a value is found in the sequence**\n",
    "\n",
    "**Example:**\n",
    "\n",
    "**result = 3 in [1, 2, 3, 4]**  <font color='Red' size=3> # result is True"
   ]
  }
 ],
 "metadata": {
  "kernelspec": {
   "display_name": "Python 3 (ipykernel)",
   "language": "python",
   "name": "python3"
  },
  "language_info": {
   "codemirror_mode": {
    "name": "ipython",
    "version": 3
   },
   "file_extension": ".py",
   "mimetype": "text/x-python",
   "name": "python",
   "nbconvert_exporter": "python",
   "pygments_lexer": "ipython3",
   "version": "3.12.4"
  }
 },
 "nbformat": 4,
 "nbformat_minor": 5
}
