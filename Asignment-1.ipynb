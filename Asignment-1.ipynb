{
 "cells": [
  {
   "cell_type": "markdown",
   "id": "47109000-7db2-4cb4-809d-7252c30351fa",
   "metadata": {},
   "source": [
    "### 01) What is Python?\n",
    "\n",
    "- **Python is a high-level, interpreted programming language known for its readability, simplicity, and versatility.**"
   ]
  },
  {
   "cell_type": "markdown",
   "id": "d3c80183-ef75-4194-8463-fbb78ca85b4e",
   "metadata": {},
   "source": [
    "### 02) What does the print() function do in Python?\n",
    "\n",
    " - **It helps to print python outputs, the specified message to console or terminals.**\n",
    " - **It can print strings, numbers,variables, or other objects.**"
   ]
  },
  {
   "cell_type": "markdown",
   "id": "967bf5f8-8f3a-4498-a50f-a4af6a4810df",
   "metadata": {},
   "source": [
    "### 03) What is the purpose of comments in python programming language?\n",
    "\n",
    "- **In Python, comments are used to provide explaination ot context about the code to make it more understandable for developers.**"
   ]
  },
  {
   "cell_type": "markdown",
   "id": "b9f35ea0-7879-4a47-bcce-d21aa98c01d3",
   "metadata": {},
   "source": [
    "### 04) Provide an example of a syntax error & semantic error in Python and explain why it is an error ?\n",
    "\n",
    "- **1. Syntax Error Example:**\n",
    "\n",
    "**if x > 10**\n",
    "    **print(\"x is greater than 10\")**\n",
    "**Missing colon (:) after the if statement. In Python, the if statement requires a colon at the end of the condition. \n",
    "** The interpreter expects certain structures in the code, and missing or misplaced punctuation causes it to fail. When you run this, Python will immediately raise a SyntaxError,\n",
    "indicating that the code cannot be interpreted correctly due to structural mistakes.)**\n",
    "\n",
    "**Semantic Error Example:**\n",
    "**x = 10\n",
    "y = 0**\n",
    "**z = x / y  # Attempting to divide by zero    \n",
    "Why it is a Semantic Error:8**\n",
    "**(The code has correct syntax and will pass Python's interpreter, but it causes an error at runtime because dividing by zero is undefined. \n",
    "This is a logical error (semantics issue), where the code is technically valid but does not make sense in the problem domain. \n",
    "Python will raise a ZeroDivisionError when this line is executed.)**"
   ]
  },
  {
   "cell_type": "markdown",
   "id": "cb58c3da-4ab1-45e9-ba1f-e3721b163948",
   "metadata": {},
   "source": [
    "### 05) What does case sensitivity mean in Python?\n",
    "\n",
    "- **In Python, case sensitivity refers to the fact that the language treats uppercase and lowercase letters as different characters. \n",
    "  This applies to variable names, function names, and other identifiers.**"
   ]
  },
  {
   "cell_type": "markdown",
   "id": "153e57ab-faf9-4b5c-b177-c648c302e3d1",
   "metadata": {},
   "source": [
    "### 06) Provide an example to illustrate how case sensitivity affects variable names in Python.\n",
    "\n",
    "#### example:\n",
    "\n",
    "- **variable, Variable, and VARIABLE are considered three distinct identifiers.\n",
    "This also applies to keywords and function names like print (the correct function) vs. Print (which will raise an error).**"
   ]
  },
  {
   "cell_type": "markdown",
   "id": "25e4c767-31ce-409e-a01d-cb86659fafa3",
   "metadata": {},
   "source": [
    "### 07) What is the recommended naming convention for variables in Python?\n",
    "\n"
   ]
  },
  {
   "cell_type": "markdown",
   "id": "7ffc5933-4158-4efc-ac70-2fc4e090fab9",
   "metadata": {},
   "source": [
    "### 08) What is the purpose of indentation in Python?\n",
    "\n",
    "- **Indention in Python is used to define the structure and scope of the code, particularly in relation,\n",
    "control flow statements such as loops,conditionals,and fuction definations.**"
   ]
  },
  {
   "cell_type": "markdown",
   "id": "56f7afd2-c874-4d52-82cb-115f98e411ac",
   "metadata": {},
   "source": [
    "### 09) What is the current stable version of Python as of September 2024?\n",
    "\n",
    "- **Current version of Python  as of September 2024 :- 3.10.15**"
   ]
  },
  {
   "cell_type": "markdown",
   "id": "81d9c453-3066-4fcc-8e2b-bc907b9c9f31",
   "metadata": {},
   "source": [
    " ### 10). What are the basic data types in Python? Provide examples for each.\n",
    "\n",
    "- **intiger(int)- [1,2,3,4]**\n",
    "- **string(str) - \"Ramesh\"**\n",
    "- **float(float) - 2.5,1.5**\n",
    "- **boolean(bool) - True, False**                                                               "
   ]
  },
  {
   "cell_type": "code",
   "execution_count": null,
   "id": "57d100ce-a6f6-43cc-a3a3-76247bdd52a4",
   "metadata": {},
   "outputs": [],
   "source": []
  }
 ],
 "metadata": {
  "kernelspec": {
   "display_name": "Python 3 (ipykernel)",
   "language": "python",
   "name": "python3"
  },
  "language_info": {
   "codemirror_mode": {
    "name": "ipython",
    "version": 3
   },
   "file_extension": ".py",
   "mimetype": "text/x-python",
   "name": "python",
   "nbconvert_exporter": "python",
   "pygments_lexer": "ipython3",
   "version": "3.12.4"
  }
 },
 "nbformat": 4,
 "nbformat_minor": 5
}
